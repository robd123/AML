{
  "nbformat": 4,
  "nbformat_minor": 0,
  "metadata": {
    "colab": {
      "name": "Project5.ipynb",
      "provenance": [],
      "collapsed_sections": [],
      "authorship_tag": "ABX9TyMJ7gZtT6xZJDPMPItzbDxT",
      "include_colab_link": true
    },
    "kernelspec": {
      "name": "python3",
      "display_name": "Python 3"
    },
    "language_info": {
      "name": "python"
    }
  },
  "cells": [
    {
      "cell_type": "markdown",
      "metadata": {
        "id": "view-in-github",
        "colab_type": "text"
      },
      "source": [
        "<a href=\"https://colab.research.google.com/github/robd123/AML/blob/main/Project5/Project5.ipynb\" target=\"_parent\"><img src=\"https://colab.research.google.com/assets/colab-badge.svg\" alt=\"Open In Colab\"/></a>"
      ]
    },
    {
      "cell_type": "code",
      "metadata": {
        "id": "5R93uEoKjiJG"
      },
      "source": [
        "import urllib.request\n",
        "import os\n",
        "import matplotlib.pyplot as plt\n",
        "import numpy as np\n",
        "import pandas as pd\n",
        "import seaborn as sns\n",
        "import graphviz\n",
        "from matplotlib import figure, pyplot\n",
        "from sklearn.compose import ColumnTransformer\n",
        "from sklearn.pipeline import Pipeline, make_pipeline\n",
        "from sklearn.impute import SimpleImputer, KNNImputer\n",
        "from sklearn.preprocessing import OneHotEncoder, StandardScaler, OrdinalEncoder, MinMaxScaler\n",
        "from sklearn.model_selection import train_test_split, cross_val_score, GridSearchCV, KFold\n",
        "from sklearn.linear_model import LogisticRegression, SGDClassifier\n",
        "from sklearn.tree import DecisionTreeClassifier, export_text, export_graphviz\n",
        "from sklearn.ensemble import RandomForestClassifier\n",
        "from sklearn.svm import SVC\n",
        "from sklearn.metrics import confusion_matrix, classification_report, accuracy_score"
      ],
      "execution_count": 26,
      "outputs": []
    },
    {
      "cell_type": "code",
      "metadata": {
        "colab": {
          "base_uri": "https://localhost:8080/"
        },
        "id": "GydSXfkXjroG",
        "outputId": "4b59bb29-1f36-408d-9e91-367b5b79b9df"
      },
      "source": [
        "datapath = os.path.join(\"datasets\", \"letters\", \"\")\n",
        "os.makedirs(datapath, exist_ok=True)\n",
        "\n",
        "# Dataset is already split into test and train data\n",
        "file_path = \"https://raw.githubusercontent.com/bforoura/AML/master/letters.csv\"\n",
        "\n",
        "urllib.request.urlretrieve(file_path, datapath + \"letters.csv\")\n",
        "letter_data = pd.read_csv(datapath + \"letters.csv\", thousands=',')\n",
        "letter_data['class'] = pd.Categorical(letter_data[\"class\"])\n",
        "\n",
        "print(letter_data.shape)\n",
        "print(letter_data.head())"
      ],
      "execution_count": 2,
      "outputs": [
        {
          "output_type": "stream",
          "text": [
            "(20000, 17)\n",
            "   x-box  y-box  width  high  onpix  ...  x-ege  xegvy  y-ege  yegvx  class\n",
            "0      2      4      4     3      2  ...      1      8      5      6      Z\n",
            "1      4      7      5     5      5  ...      2      9      7     10      P\n",
            "2      7     10      8     7      4  ...      2      5      5     10      S\n",
            "3      4      9      5     7      4  ...      3      8      0      8      H\n",
            "4      6      7      8     5      4  ...      3      8      3      7      H\n",
            "\n",
            "[5 rows x 17 columns]\n"
          ],
          "name": "stdout"
        }
      ]
    },
    {
      "cell_type": "code",
      "metadata": {
        "colab": {
          "base_uri": "https://localhost:8080/"
        },
        "id": "XLf8MdzJnyHl",
        "outputId": "9783cb66-228d-45d1-ebd4-d38d3358b36a"
      },
      "source": [
        "print(letter_data.dtypes)"
      ],
      "execution_count": 3,
      "outputs": [
        {
          "output_type": "stream",
          "text": [
            "x-box       int64\n",
            "y-box       int64\n",
            "width       int64\n",
            "high        int64\n",
            "onpix       int64\n",
            "x-bar       int64\n",
            "y-bar       int64\n",
            "x2bar       int64\n",
            "y2bar       int64\n",
            "xybar       int64\n",
            "x2ybr       int64\n",
            "xy2br       int64\n",
            "x-ege       int64\n",
            "xegvy       int64\n",
            "y-ege       int64\n",
            "yegvx       int64\n",
            "class    category\n",
            "dtype: object\n"
          ],
          "name": "stdout"
        }
      ]
    },
    {
      "cell_type": "markdown",
      "metadata": {
        "id": "F2t0IG81kb46"
      },
      "source": [
        "**Look for Missing Data**\n",
        "\n",
        "---\n",
        "None found, no need to impute missing data\n"
      ]
    },
    {
      "cell_type": "code",
      "metadata": {
        "colab": {
          "base_uri": "https://localhost:8080/"
        },
        "id": "WnuIWy-nkXGg",
        "outputId": "4f61e7a4-2fb6-4be8-ef97-0f2de1c4f4ef"
      },
      "source": [
        "print(letter_data.isnull().sum())"
      ],
      "execution_count": 5,
      "outputs": [
        {
          "output_type": "stream",
          "text": [
            "x-box    0\n",
            "y-box    0\n",
            "width    0\n",
            "high     0\n",
            "onpix    0\n",
            "x-bar    0\n",
            "y-bar    0\n",
            "x2bar    0\n",
            "y2bar    0\n",
            "xybar    0\n",
            "x2ybr    0\n",
            "xy2br    0\n",
            "x-ege    0\n",
            "xegvy    0\n",
            "y-ege    0\n",
            "yegvx    0\n",
            "class    0\n",
            "dtype: int64\n"
          ],
          "name": "stdout"
        }
      ]
    },
    {
      "cell_type": "markdown",
      "metadata": {
        "id": "2m2zptEollXU"
      },
      "source": [
        "**Verify Distribution of Letters**\n",
        "\n",
        "---\n",
        "Many samples of each letter exist in the dataset\n"
      ]
    },
    {
      "cell_type": "code",
      "metadata": {
        "colab": {
          "base_uri": "https://localhost:8080/",
          "height": 605
        },
        "id": "_MHXG1erks8S",
        "outputId": "e8ccde82-c131-4e0d-83ac-dce1e04635ad"
      },
      "source": [
        "class_pv = pd.pivot_table(letter_data, values='x-box', index=['class'], aggfunc=np.count_nonzero)\n",
        "class_plot = class_pv.plot(kind='bar', figsize=(20,10))"
      ],
      "execution_count": 6,
      "outputs": [
        {
          "output_type": "display_data",
          "data": {
            "image/png": "[encoded data removed]",
            "text/plain": [
              "<Figure size 1440x720 with 1 Axes>"
            ]
          },
          "metadata": {
            "tags": [],
            "needs_background": "light"
          }
        }
      ]
    },
    {
      "cell_type": "markdown",
      "metadata": {
        "id": "PxwyZcpppose"
      },
      "source": [
        "**Define Cross-Validation Function**"
      ]
    },
    {
      "cell_type": "code",
      "metadata": {
        "id": "9SHkt8qtntfJ"
      },
      "source": [
        "def cross_validate_model (classifier_model, X, y):\n",
        "  kfold = KFold(n_splits=3, shuffle=True, random_state=10)\n",
        "\n",
        "  # perform model cross validation on the shuffled folds\n",
        "  results = cross_val_score(classifier_model, X, y, cv=kfold)\n",
        "\n",
        "  # return the mean score for all folds\n",
        "  return results.mean()"
      ],
      "execution_count": 7,
      "outputs": []
    },
    {
      "cell_type": "markdown",
      "metadata": {
        "id": "yR2ybTg8HUxu"
      },
      "source": [
        "**Define Preprocessor to Scale and Encode Features**\n",
        "\n",
        "\n",
        "---\n",
        "Earlier it was determined that there are no missing values, so an imputer is not needed\n"
      ]
    },
    {
      "cell_type": "code",
      "metadata": {
        "id": "EEADVi4jptVK"
      },
      "source": [
        "\n",
        "\n",
        "# Categorical and Float Attributes\n",
        "cats = ['class']\n",
        "floats = ['x-box', 'y-box', 'width', 'high', 'onpix', 'x-bar', 'y-bar', 'x2bar', 'y2bar', 'xybar', 'x2ybr', 'xy2br', 'x-ege', 'xegvy', 'y-ege', 'yegvx', ]\n",
        "\n",
        "# Create pipeline to change categorical data to ordinal data\n",
        "cat_transformer = Pipeline(steps=[\n",
        "    ('ordinal', OrdinalEncoder())\n",
        "])\n",
        "# Create pipeline to scale continuous data\n",
        "float_transformer = Pipeline(steps=[\n",
        "    ('scaler', StandardScaler())\n",
        "])\n",
        "preprocessor = ColumnTransformer(\n",
        "    transformers=[\n",
        "        ('float', float_transformer, floats),\n",
        "        ('cat', cat_transformer, cats)\n",
        "])"
      ],
      "execution_count": 8,
      "outputs": []
    },
    {
      "cell_type": "code",
      "metadata": {
        "colab": {
          "base_uri": "https://localhost:8080/"
        },
        "id": "484Zrx6hHbVt",
        "outputId": "9526128b-0c59-4a37-c7da-c7206e4f1ce2"
      },
      "source": [
        "letter_data_proc = pd.DataFrame(preprocessor.fit_transform(letter_data), columns = letter_data.columns)\n",
        "print(letter_data_proc.head())"
      ],
      "execution_count": 10,
      "outputs": [
        {
          "output_type": "stream",
          "text": [
            "      x-box     y-box     width      high  ...     xegvy     y-ege     yegvx  class\n",
            "0 -1.057698 -0.918603 -0.556881 -1.049137  ... -0.219082  0.509640 -1.113619   25.0\n",
            "1 -0.012309 -0.010743 -0.060486 -0.164704  ...  0.427463  1.288757  1.359441   15.0\n",
            "2  1.555774  0.897117  1.428701  0.719730  ... -2.158715  0.509640  1.359441   18.0\n",
            "3 -0.012309  0.594497 -0.060486  0.719730  ... -0.219082 -1.438153  0.122911    7.0\n",
            "4  1.033079 -0.010743  1.428701 -0.164704  ... -0.219082 -0.269477 -0.495354    7.0\n",
            "\n",
            "[5 rows x 17 columns]\n"
          ],
          "name": "stdout"
        }
      ]
    },
    {
      "cell_type": "code",
      "metadata": {
        "id": "66Yv1nhWH6V3"
      },
      "source": [
        "Y = letter_data_proc[['class']]\n",
        "X = letter_data_proc.drop(columns=['class'])\n",
        "\n",
        "X_train, X_test, Y_train, Y_test = train_test_split(X, Y, test_size = 0.20, random_state = 0)  # Use 80/20 split"
      ],
      "execution_count": 11,
      "outputs": []
    },
    {
      "cell_type": "code",
      "metadata": {
        "colab": {
          "base_uri": "https://localhost:8080/"
        },
        "id": "t_lOPz3yIiqc",
        "outputId": "d4740c5f-ff81-490b-c849-3dc117e25a82"
      },
      "source": [
        "tree_classifier = DecisionTreeClassifier()\n",
        "\n",
        "params = { 'criterion':['gini','entropy'], 'max_depth': np.arange(3, 25), 'min_samples_leaf': np.arange(1, 10), 'min_samples_split': np.arange(2, 10)}\n",
        "   \n",
        "grid_search_dt = GridSearchCV(tree_classifier, params, cv=3, n_jobs=-1)\n",
        "\n",
        "grid_search_dt.fit(X_train, Y_train)\n",
        "\n",
        "print(grid_search_dt.best_params_)\n"
      ],
      "execution_count": null,
      "outputs": [
        {
          "output_type": "stream",
          "text": [
            "{'criterion': 'entropy', 'max_depth': 23, 'min_samples_leaf': 1, 'min_samples_split': 2}\n"
          ],
          "name": "stdout"
        }
      ]
    },
    {
      "cell_type": "code",
      "metadata": {
        "colab": {
          "base_uri": "https://localhost:8080/"
        },
        "id": "CXwvWfqYSDzs",
        "outputId": "067cb2b6-8b83-4ef5-acda-89a52f1473dd"
      },
      "source": [
        "tree_classifier_opt = DecisionTreeClassifier(criterion='entropy', max_depth=23, min_samples_leaf=1, min_samples_split=2)\n",
        "tree_classifier_opt.fit(X_train, Y_train)\n",
        "\n",
        "Y_pred_dt = tree_classifier_opt.predict(X_test)\n",
        "dt_accuracy = accuracy_score(Y_test, Y_pred_dt)\n",
        "\n",
        "dt_score = cross_validate_model(tree_classifier_opt, X_train, Y_train)\n",
        "\n",
        "print(dt_accuracy)\n",
        "print(dt_score)"
      ],
      "execution_count": 27,
      "outputs": [
        {
          "output_type": "stream",
          "text": [
            "0.8805\n",
            "0.8584379793328384\n"
          ],
          "name": "stdout"
        }
      ]
    },
    {
      "cell_type": "code",
      "metadata": {
        "colab": {
          "base_uri": "https://localhost:8080/"
        },
        "id": "p0aG6BcDWr6Q",
        "outputId": "4c6626a7-c081-4b90-b511-8c03570de54a"
      },
      "source": [
        "sgd_classifier = SGDClassifier()\n",
        "sgd_classifier.fit(X_train, Y_train)\n",
        "\n",
        "Y_pred_sgd = sgd_classifier.predict(X_test)\n",
        "sgd_accuracy = accuracy_score(Y_test, Y_pred_sgd)\n",
        "\n",
        "sgd_score = cross_validate_model(sgd_classifier, X_train, Y_train)\n",
        "\n",
        "print(sgd_accuracy)\n",
        "print(sgd_score)"
      ],
      "execution_count": 28,
      "outputs": [
        {
          "output_type": "stream",
          "text": [
            "/usr/local/lib/python3.7/dist-packages/sklearn/utils/validation.py:760: DataConversionWarning: A column-vector y was passed when a 1d array was expected. Please change the shape of y to (n_samples, ), for example using ravel().\n",
            "  y = column_or_1d(y, warn=True)\n",
            "/usr/local/lib/python3.7/dist-packages/sklearn/utils/validation.py:760: DataConversionWarning: A column-vector y was passed when a 1d array was expected. Please change the shape of y to (n_samples, ), for example using ravel().\n",
            "  y = column_or_1d(y, warn=True)\n",
            "/usr/local/lib/python3.7/dist-packages/sklearn/utils/validation.py:760: DataConversionWarning: A column-vector y was passed when a 1d array was expected. Please change the shape of y to (n_samples, ), for example using ravel().\n",
            "  y = column_or_1d(y, warn=True)\n",
            "/usr/local/lib/python3.7/dist-packages/sklearn/utils/validation.py:760: DataConversionWarning: A column-vector y was passed when a 1d array was expected. Please change the shape of y to (n_samples, ), for example using ravel().\n",
            "  y = column_or_1d(y, warn=True)\n"
          ],
          "name": "stderr"
        },
        {
          "output_type": "stream",
          "text": [
            "0.64425\n",
            "0.6236261883915551\n"
          ],
          "name": "stdout"
        }
      ]
    },
    {
      "cell_type": "code",
      "metadata": {
        "colab": {
          "base_uri": "https://localhost:8080/"
        },
        "id": "8G2sciRbYDes",
        "outputId": "dcb18713-7a8a-449c-a438-d8cab4f64ade"
      },
      "source": [
        "random_forest_entr = RandomForestClassifier(criterion='entropy')\n",
        "random_forest_entr.fit(X_train, Y_train)\n",
        "\n",
        "Y_pred_entr = random_forest_entr.predict(X_test)\n",
        "entr_accuracy = accuracy_score(Y_test, Y_pred_entr)\n",
        "\n",
        "random_forest_entr_score = cross_validate_model(random_forest_entr, X_train, Y_train)\n",
        "\n",
        "print(entr_accuracy)\n",
        "print(random_forest_entr_score)"
      ],
      "execution_count": 32,
      "outputs": [
        {
          "output_type": "stream",
          "text": [
            "/usr/local/lib/python3.7/dist-packages/ipykernel_launcher.py:2: DataConversionWarning: A column-vector y was passed when a 1d array was expected. Please change the shape of y to (n_samples,), for example using ravel().\n",
            "  \n",
            "/usr/local/lib/python3.7/dist-packages/sklearn/model_selection/_validation.py:515: DataConversionWarning: A column-vector y was passed when a 1d array was expected. Please change the shape of y to (n_samples,), for example using ravel().\n",
            "  estimator.fit(X_train, y_train, **fit_params)\n",
            "/usr/local/lib/python3.7/dist-packages/sklearn/model_selection/_validation.py:515: DataConversionWarning: A column-vector y was passed when a 1d array was expected. Please change the shape of y to (n_samples,), for example using ravel().\n",
            "  estimator.fit(X_train, y_train, **fit_params)\n",
            "/usr/local/lib/python3.7/dist-packages/sklearn/model_selection/_validation.py:515: DataConversionWarning: A column-vector y was passed when a 1d array was expected. Please change the shape of y to (n_samples,), for example using ravel().\n",
            "  estimator.fit(X_train, y_train, **fit_params)\n"
          ],
          "name": "stderr"
        },
        {
          "output_type": "stream",
          "text": [
            "0.959\n",
            "0.9529379683530559\n"
          ],
          "name": "stdout"
        }
      ]
    },
    {
      "cell_type": "code",
      "metadata": {
        "id": "tsOSOJ9bIjyJ",
        "outputId": "1673f463-5287-433c-90c3-e066abd9efc6",
        "colab": {
          "base_uri": "https://localhost:8080/"
        }
      },
      "source": [
        "random_forest_gini = RandomForestClassifier(criterion='gini')\n",
        "random_forest_gini_score = cross_validate_model(random_forest_gini, X_train, Y_train)\n",
        "print(random_forest_gini_score)"
      ],
      "execution_count": 22,
      "outputs": [
        {
          "output_type": "stream",
          "text": [
            "/usr/local/lib/python3.7/dist-packages/sklearn/model_selection/_validation.py:515: DataConversionWarning: A column-vector y was passed when a 1d array was expected. Please change the shape of y to (n_samples,), for example using ravel().\n",
            "  estimator.fit(X_train, y_train, **fit_params)\n",
            "/usr/local/lib/python3.7/dist-packages/sklearn/model_selection/_validation.py:515: DataConversionWarning: A column-vector y was passed when a 1d array was expected. Please change the shape of y to (n_samples,), for example using ravel().\n",
            "  estimator.fit(X_train, y_train, **fit_params)\n",
            "/usr/local/lib/python3.7/dist-packages/sklearn/model_selection/_validation.py:515: DataConversionWarning: A column-vector y was passed when a 1d array was expected. Please change the shape of y to (n_samples,), for example using ravel().\n",
            "  estimator.fit(X_train, y_train, **fit_params)\n"
          ],
          "name": "stderr"
        },
        {
          "output_type": "stream",
          "text": [
            "0.9526254253845496\n"
          ],
          "name": "stdout"
        }
      ]
    },
    {
      "cell_type": "code",
      "metadata": {
        "colab": {
          "base_uri": "https://localhost:8080/"
        },
        "id": "RHSHv_ACdzKB",
        "outputId": "9c9cf018-8ed6-46d4-98c0-8db789fe2502"
      },
      "source": [
        "rbf_svc_classifier = SVC(kernel='rbf')\n",
        "rbf_svc_classifier.fit(X_train, Y_train)\n",
        "rbf_svc_score = cross_validate_model(rbf_svc_classifier, X_train, Y_train)\n",
        "print(rbf_svc_score)"
      ],
      "execution_count": 18,
      "outputs": [
        {
          "output_type": "stream",
          "text": [
            "/usr/local/lib/python3.7/dist-packages/sklearn/utils/validation.py:760: DataConversionWarning: A column-vector y was passed when a 1d array was expected. Please change the shape of y to (n_samples, ), for example using ravel().\n",
            "  y = column_or_1d(y, warn=True)\n",
            "/usr/local/lib/python3.7/dist-packages/sklearn/utils/validation.py:760: DataConversionWarning: A column-vector y was passed when a 1d array was expected. Please change the shape of y to (n_samples, ), for example using ravel().\n",
            "  y = column_or_1d(y, warn=True)\n",
            "/usr/local/lib/python3.7/dist-packages/sklearn/utils/validation.py:760: DataConversionWarning: A column-vector y was passed when a 1d array was expected. Please change the shape of y to (n_samples, ), for example using ravel().\n",
            "  y = column_or_1d(y, warn=True)\n",
            "/usr/local/lib/python3.7/dist-packages/sklearn/utils/validation.py:760: DataConversionWarning: A column-vector y was passed when a 1d array was expected. Please change the shape of y to (n_samples, ), for example using ravel().\n",
            "  y = column_or_1d(y, warn=True)\n"
          ],
          "name": "stderr"
        },
        {
          "output_type": "stream",
          "text": [
            "0.9325627728935908\n"
          ],
          "name": "stdout"
        }
      ]
    }
  ]
}