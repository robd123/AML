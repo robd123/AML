{
  "nbformat": 4,
  "nbformat_minor": 0,
  "metadata": {
    "colab": {
      "name": "Project5.ipynb",
      "provenance": [],
      "collapsed_sections": [],
      "toc_visible": true,
      "authorship_tag": "ABX9TyMM6U1WvKaiYBzJl3m3/y9t",
      "include_colab_link": true
    },
    "kernelspec": {
      "name": "python3",
      "display_name": "Python 3"
    },
    "language_info": {
      "name": "python"
    }
  },
  "cells": [
    {
      "cell_type": "markdown",
      "metadata": {
        "id": "view-in-github",
        "colab_type": "text"
      },
      "source": [
        "<a href=\"https://colab.research.google.com/github/robd123/AML/blob/main/Project5/Project5.ipynb\" target=\"_parent\"><img src=\"https://colab.research.google.com/assets/colab-badge.svg\" alt=\"Open In Colab\"/></a>"
      ]
    },
    {
      "cell_type": "code",
      "metadata": {
        "id": "5R93uEoKjiJG"
      },
      "source": [
        "import urllib.request\n",
        "import os\n",
        "import matplotlib.pyplot as plt\n",
        "import numpy as np\n",
        "import pandas as pd\n",
        "import seaborn as sns\n",
        "import graphviz\n",
        "from matplotlib import figure, pyplot\n",
        "from sklearn.compose import ColumnTransformer\n",
        "from sklearn.pipeline import Pipeline, make_pipeline\n",
        "from sklearn.impute import SimpleImputer, KNNImputer\n",
        "from sklearn.preprocessing import OneHotEncoder, StandardScaler, OrdinalEncoder, MinMaxScaler\n",
        "from sklearn.model_selection import train_test_split, cross_val_score, GridSearchCV, KFold\n",
        "from sklearn.linear_model import LogisticRegression, SGDClassifier\n",
        "from sklearn.tree import DecisionTreeClassifier, export_text, export_graphviz\n",
        "from sklearn.ensemble import RandomForestClassifier, BaggingClassifier, VotingClassifier, AdaBoostClassifier\n",
        "from sklearn.svm import SVC\n",
        "from sklearn.metrics import confusion_matrix, classification_report, accuracy_score, silhouette_score\n",
        "from sklearn.cluster import KMeans"
      ],
      "execution_count": 117,
      "outputs": []
    },
    {
      "cell_type": "code",
      "metadata": {
        "colab": {
          "base_uri": "https://localhost:8080/"
        },
        "id": "GydSXfkXjroG",
        "outputId": "83393913-6d30-4c12-f668-1679bb5e164d"
      },
      "source": [
        "datapath = os.path.join(\"datasets\", \"letters\", \"\")\n",
        "os.makedirs(datapath, exist_ok=True)\n",
        "\n",
        "# Dataset is already split into test and train data\n",
        "file_path = \"https://raw.githubusercontent.com/bforoura/AML/master/letters.csv\"\n",
        "\n",
        "urllib.request.urlretrieve(file_path, datapath + \"letters.csv\")\n",
        "letter_data = pd.read_csv(datapath + \"letters.csv\", thousands=',')\n",
        "letter_data['class'] = pd.Categorical(letter_data[\"class\"])\n",
        "\n",
        "print(letter_data.shape)\n",
        "print(letter_data.head())"
      ],
      "execution_count": 48,
      "outputs": [
        {
          "output_type": "stream",
          "text": [
            "(20000, 17)\n",
            "   x-box  y-box  width  high  onpix  ...  x-ege  xegvy  y-ege  yegvx  class\n",
            "0      2      4      4     3      2  ...      1      8      5      6      Z\n",
            "1      4      7      5     5      5  ...      2      9      7     10      P\n",
            "2      7     10      8     7      4  ...      2      5      5     10      S\n",
            "3      4      9      5     7      4  ...      3      8      0      8      H\n",
            "4      6      7      8     5      4  ...      3      8      3      7      H\n",
            "\n",
            "[5 rows x 17 columns]\n"
          ],
          "name": "stdout"
        }
      ]
    },
    {
      "cell_type": "code",
      "metadata": {
        "colab": {
          "base_uri": "https://localhost:8080/"
        },
        "id": "XLf8MdzJnyHl",
        "outputId": "9783cb66-228d-45d1-ebd4-d38d3358b36a"
      },
      "source": [
        "print(letter_data.dtypes)"
      ],
      "execution_count": 3,
      "outputs": [
        {
          "output_type": "stream",
          "text": [
            "x-box       int64\n",
            "y-box       int64\n",
            "width       int64\n",
            "high        int64\n",
            "onpix       int64\n",
            "x-bar       int64\n",
            "y-bar       int64\n",
            "x2bar       int64\n",
            "y2bar       int64\n",
            "xybar       int64\n",
            "x2ybr       int64\n",
            "xy2br       int64\n",
            "x-ege       int64\n",
            "xegvy       int64\n",
            "y-ege       int64\n",
            "yegvx       int64\n",
            "class    category\n",
            "dtype: object\n"
          ],
          "name": "stdout"
        }
      ]
    },
    {
      "cell_type": "markdown",
      "metadata": {
        "id": "F2t0IG81kb46"
      },
      "source": [
        "**Look for Missing Data**\n",
        "\n",
        "---\n",
        "None found, no need to impute missing data\n"
      ]
    },
    {
      "cell_type": "code",
      "metadata": {
        "colab": {
          "base_uri": "https://localhost:8080/"
        },
        "id": "WnuIWy-nkXGg",
        "outputId": "4f61e7a4-2fb6-4be8-ef97-0f2de1c4f4ef"
      },
      "source": [
        "print(letter_data.isnull().sum())"
      ],
      "execution_count": 5,
      "outputs": [
        {
          "output_type": "stream",
          "text": [
            "x-box    0\n",
            "y-box    0\n",
            "width    0\n",
            "high     0\n",
            "onpix    0\n",
            "x-bar    0\n",
            "y-bar    0\n",
            "x2bar    0\n",
            "y2bar    0\n",
            "xybar    0\n",
            "x2ybr    0\n",
            "xy2br    0\n",
            "x-ege    0\n",
            "xegvy    0\n",
            "y-ege    0\n",
            "yegvx    0\n",
            "class    0\n",
            "dtype: int64\n"
          ],
          "name": "stdout"
        }
      ]
    },
    {
      "cell_type": "markdown",
      "metadata": {
        "id": "2m2zptEollXU"
      },
      "source": [
        "**Verify Distribution of Letters**\n",
        "\n",
        "---\n",
        "Many samples of each letter exist in the dataset\n"
      ]
    },
    {
      "cell_type": "code",
      "metadata": {
        "colab": {
          "base_uri": "https://localhost:8080/",
          "height": 605
        },
        "id": "_MHXG1erks8S",
        "outputId": "6d279794-a7ac-42e9-eef4-5f0bf9ad7270"
      },
      "source": [
        "class_pv = pd.pivot_table(letter_data, values='x-box', index=['class'], aggfunc=np.count_nonzero)\n",
        "class_plot = class_pv.plot(kind='bar', figsize=(20,10))"
      ],
      "execution_count": 49,
      "outputs": [
        {
          "output_type": "display_data",
          "data": {
            "image/png": "[encoded data removed]",
            "text/plain": [
              "<Figure size 1440x720 with 1 Axes>"
            ]
          },
          "metadata": {
            "tags": [],
            "needs_background": "light"
          }
        }
      ]
    },
    {
      "cell_type": "markdown",
      "metadata": {
        "id": "PxwyZcpppose"
      },
      "source": [
        "**Define Cross-Validation Function**"
      ]
    },
    {
      "cell_type": "code",
      "metadata": {
        "id": "9SHkt8qtntfJ"
      },
      "source": [
        "def cross_validate_model (classifier_model, X, y):\n",
        "  kfold = KFold(n_splits=3, shuffle=True, random_state=10)\n",
        "\n",
        "  # perform model cross validation on the shuffled folds\n",
        "  results = cross_val_score(classifier_model, X, y, cv=kfold)\n",
        "\n",
        "  # return the mean score for all folds\n",
        "  return results.mean()"
      ],
      "execution_count": 50,
      "outputs": []
    },
    {
      "cell_type": "markdown",
      "metadata": {
        "id": "yR2ybTg8HUxu"
      },
      "source": [
        "**Define Preprocessor to Scale and Encode Features**\n",
        "\n",
        "\n",
        "---\n",
        "Earlier it was determined that there are no missing values, so an imputer is not needed\n"
      ]
    },
    {
      "cell_type": "code",
      "metadata": {
        "id": "EEADVi4jptVK"
      },
      "source": [
        "\n",
        "\n",
        "# Categorical and Float Attributes\n",
        "cats = ['class']\n",
        "floats = ['x-box', 'y-box', 'width', 'high', 'onpix', 'x-bar', 'y-bar', 'x2bar', 'y2bar', 'xybar', 'x2ybr', 'xy2br', 'x-ege', 'xegvy', 'y-ege', 'yegvx', ]\n",
        "\n",
        "# Create pipeline to change categorical data to ordinal data\n",
        "cat_transformer = Pipeline(steps=[\n",
        "    ('ordinal', OrdinalEncoder())\n",
        "])\n",
        "# Create pipeline to scale continuous data\n",
        "float_transformer = Pipeline(steps=[\n",
        "    ('scaler', StandardScaler())\n",
        "])\n",
        "preprocessor = ColumnTransformer(\n",
        "    transformers=[\n",
        "        ('float', float_transformer, floats),\n",
        "        ('cat', cat_transformer, cats)\n",
        "])"
      ],
      "execution_count": 51,
      "outputs": []
    },
    {
      "cell_type": "code",
      "metadata": {
        "colab": {
          "base_uri": "https://localhost:8080/"
        },
        "id": "484Zrx6hHbVt",
        "outputId": "fe0a485f-0149-40f8-8590-3f7b5a3907f6"
      },
      "source": [
        "letter_data_proc = pd.DataFrame(preprocessor.fit_transform(letter_data), columns = letter_data.columns)\n",
        "print(letter_data_proc.head())"
      ],
      "execution_count": 52,
      "outputs": [
        {
          "output_type": "stream",
          "text": [
            "      x-box     y-box     width      high  ...     xegvy     y-ege     yegvx  class\n",
            "0 -1.057698 -0.918603 -0.556881 -1.049137  ... -0.219082  0.509640 -1.113619   25.0\n",
            "1 -0.012309 -0.010743 -0.060486 -0.164704  ...  0.427463  1.288757  1.359441   15.0\n",
            "2  1.555774  0.897117  1.428701  0.719730  ... -2.158715  0.509640  1.359441   18.0\n",
            "3 -0.012309  0.594497 -0.060486  0.719730  ... -0.219082 -1.438153  0.122911    7.0\n",
            "4  1.033079 -0.010743  1.428701 -0.164704  ... -0.219082 -0.269477 -0.495354    7.0\n",
            "\n",
            "[5 rows x 17 columns]\n"
          ],
          "name": "stdout"
        }
      ]
    },
    {
      "cell_type": "code",
      "metadata": {
        "id": "66Yv1nhWH6V3"
      },
      "source": [
        "Y = letter_data_proc[['class']]\n",
        "X = letter_data_proc.drop(columns=['class'])\n",
        "\n",
        "X_train, X_test, Y_train, Y_test = train_test_split(X, Y, test_size = 0.20, random_state = 0)  # Use 80/20 split"
      ],
      "execution_count": 105,
      "outputs": []
    },
    {
      "cell_type": "markdown",
      "metadata": {
        "id": "cBPId42qTreP"
      },
      "source": [
        "# Preliminary Model Selection\n",
        "\n",
        "\n",
        "---\n",
        "Training assorted models on the data to see how well they work, optimizing some models using GridSearch\n"
      ]
    },
    {
      "cell_type": "code",
      "metadata": {
        "colab": {
          "base_uri": "https://localhost:8080/"
        },
        "id": "t_lOPz3yIiqc",
        "outputId": "d4740c5f-ff81-490b-c849-3dc117e25a82"
      },
      "source": [
        "tree_classifier = DecisionTreeClassifier()\n",
        "\n",
        "params = { 'criterion':['gini','entropy'], 'max_depth': np.arange(3, 25), 'min_samples_leaf': np.arange(1, 10), 'min_samples_split': np.arange(2, 10)}\n",
        "   \n",
        "grid_search_dt = GridSearchCV(tree_classifier, params, cv=3, n_jobs=-1)\n",
        "\n",
        "grid_search_dt.fit(X_train, Y_train)\n",
        "\n",
        "print(grid_search_dt.best_params_)\n"
      ],
      "execution_count": null,
      "outputs": [
        {
          "output_type": "stream",
          "text": [
            "{'criterion': 'entropy', 'max_depth': 23, 'min_samples_leaf': 1, 'min_samples_split': 2}\n"
          ],
          "name": "stdout"
        }
      ]
    },
    {
      "cell_type": "code",
      "metadata": {
        "colab": {
          "base_uri": "https://localhost:8080/"
        },
        "id": "CXwvWfqYSDzs",
        "outputId": "ac8355fa-4853-4559-f005-a5c07f27efae"
      },
      "source": [
        "tree_classifier_opt = DecisionTreeClassifier(criterion='entropy', max_depth=23, min_samples_leaf=1, min_samples_split=2)\n",
        "tree_classifier_opt.fit(X_train, Y_train)\n",
        "\n",
        "Y_pred_dt = tree_classifier_opt.predict(X_test)\n",
        "dt_accuracy = accuracy_score(Y_test, Y_pred_dt)\n",
        "\n",
        "dt_score = cross_validate_model(tree_classifier_opt, X_train, Y_train)\n",
        "\n",
        "print(dt_accuracy)\n",
        "print(dt_score)"
      ],
      "execution_count": 54,
      "outputs": [
        {
          "output_type": "stream",
          "text": [
            "0.8795\n",
            "0.8575002332471428\n"
          ],
          "name": "stdout"
        }
      ]
    },
    {
      "cell_type": "code",
      "metadata": {
        "colab": {
          "base_uri": "https://localhost:8080/"
        },
        "id": "p0aG6BcDWr6Q",
        "outputId": "1cbcb584-78cf-4601-a70e-b68e56388f27"
      },
      "source": [
        "sgd_classifier = SGDClassifier()\n",
        "sgd_classifier.fit(X_train, Y_train)\n",
        "\n",
        "Y_pred_sgd = sgd_classifier.predict(X_test)\n",
        "sgd_accuracy = accuracy_score(Y_test, Y_pred_sgd)\n",
        "\n",
        "sgd_score = cross_validate_model(sgd_classifier, X_train, Y_train)\n",
        "\n",
        "print(sgd_accuracy)\n",
        "print(sgd_score)"
      ],
      "execution_count": 55,
      "outputs": [
        {
          "output_type": "stream",
          "text": [
            "/usr/local/lib/python3.7/dist-packages/sklearn/utils/validation.py:760: DataConversionWarning: A column-vector y was passed when a 1d array was expected. Please change the shape of y to (n_samples, ), for example using ravel().\n",
            "  y = column_or_1d(y, warn=True)\n",
            "/usr/local/lib/python3.7/dist-packages/sklearn/utils/validation.py:760: DataConversionWarning: A column-vector y was passed when a 1d array was expected. Please change the shape of y to (n_samples, ), for example using ravel().\n",
            "  y = column_or_1d(y, warn=True)\n",
            "/usr/local/lib/python3.7/dist-packages/sklearn/utils/validation.py:760: DataConversionWarning: A column-vector y was passed when a 1d array was expected. Please change the shape of y to (n_samples, ), for example using ravel().\n",
            "  y = column_or_1d(y, warn=True)\n",
            "/usr/local/lib/python3.7/dist-packages/sklearn/utils/validation.py:760: DataConversionWarning: A column-vector y was passed when a 1d array was expected. Please change the shape of y to (n_samples, ), for example using ravel().\n",
            "  y = column_or_1d(y, warn=True)\n"
          ],
          "name": "stderr"
        },
        {
          "output_type": "stream",
          "text": [
            "0.64725\n",
            "0.6113130945824722\n"
          ],
          "name": "stdout"
        }
      ]
    },
    {
      "cell_type": "code",
      "metadata": {
        "colab": {
          "base_uri": "https://localhost:8080/"
        },
        "id": "8G2sciRbYDes",
        "outputId": "54c70fc3-8b95-499c-fe88-c10b15b1a3c4"
      },
      "source": [
        "random_forest_entr = RandomForestClassifier(criterion='entropy', n_estimators=500, n_jobs=-1)\n",
        "random_forest_entr.fit(X_train, Y_train)\n",
        "\n",
        "Y_pred_entr = random_forest_entr.predict(X_test)\n",
        "entr_accuracy = accuracy_score(Y_test, Y_pred_entr)\n",
        "\n",
        "random_forest_entr_score = cross_validate_model(random_forest_entr, X_train, Y_train)\n",
        "\n",
        "print(entr_accuracy)\n",
        "print(random_forest_entr_score)"
      ],
      "execution_count": 56,
      "outputs": [
        {
          "output_type": "stream",
          "text": [
            "/usr/local/lib/python3.7/dist-packages/ipykernel_launcher.py:2: DataConversionWarning: A column-vector y was passed when a 1d array was expected. Please change the shape of y to (n_samples,), for example using ravel().\n",
            "  \n",
            "/usr/local/lib/python3.7/dist-packages/sklearn/model_selection/_validation.py:515: DataConversionWarning: A column-vector y was passed when a 1d array was expected. Please change the shape of y to (n_samples,), for example using ravel().\n",
            "  estimator.fit(X_train, y_train, **fit_params)\n",
            "/usr/local/lib/python3.7/dist-packages/sklearn/model_selection/_validation.py:515: DataConversionWarning: A column-vector y was passed when a 1d array was expected. Please change the shape of y to (n_samples,), for example using ravel().\n",
            "  estimator.fit(X_train, y_train, **fit_params)\n",
            "/usr/local/lib/python3.7/dist-packages/sklearn/model_selection/_validation.py:515: DataConversionWarning: A column-vector y was passed when a 1d array was expected. Please change the shape of y to (n_samples,), for example using ravel().\n",
            "  estimator.fit(X_train, y_train, **fit_params)\n"
          ],
          "name": "stderr"
        },
        {
          "output_type": "stream",
          "text": [
            "0.9605\n",
            "0.9554378199443615\n"
          ],
          "name": "stdout"
        }
      ]
    },
    {
      "cell_type": "code",
      "metadata": {
        "colab": {
          "base_uri": "https://localhost:8080/"
        },
        "id": "tsOSOJ9bIjyJ",
        "outputId": "dd705183-a678-4d1a-9cbd-fa75d3626d67"
      },
      "source": [
        "random_forest_gini = RandomForestClassifier(criterion='gini', n_estimators=500, n_jobs=-1)\n",
        "random_forest_gini.fit(X_train, Y_train)\n",
        "\n",
        "Y_pred_gini = random_forest_gini.predict(X_test)\n",
        "gini_accuracy = accuracy_score(Y_test, Y_pred_gini)\n",
        "\n",
        "random_forest_gini_score = cross_validate_model(random_forest_gini, X_train, Y_train)\n",
        "\n",
        "print(gini_accuracy)\n",
        "print(random_forest_gini_score)"
      ],
      "execution_count": 57,
      "outputs": [
        {
          "output_type": "stream",
          "text": [
            "/usr/local/lib/python3.7/dist-packages/ipykernel_launcher.py:2: DataConversionWarning: A column-vector y was passed when a 1d array was expected. Please change the shape of y to (n_samples,), for example using ravel().\n",
            "  \n",
            "/usr/local/lib/python3.7/dist-packages/sklearn/model_selection/_validation.py:515: DataConversionWarning: A column-vector y was passed when a 1d array was expected. Please change the shape of y to (n_samples,), for example using ravel().\n",
            "  estimator.fit(X_train, y_train, **fit_params)\n",
            "/usr/local/lib/python3.7/dist-packages/sklearn/model_selection/_validation.py:515: DataConversionWarning: A column-vector y was passed when a 1d array was expected. Please change the shape of y to (n_samples,), for example using ravel().\n",
            "  estimator.fit(X_train, y_train, **fit_params)\n",
            "/usr/local/lib/python3.7/dist-packages/sklearn/model_selection/_validation.py:515: DataConversionWarning: A column-vector y was passed when a 1d array was expected. Please change the shape of y to (n_samples,), for example using ravel().\n",
            "  estimator.fit(X_train, y_train, **fit_params)\n"
          ],
          "name": "stderr"
        },
        {
          "output_type": "stream",
          "text": [
            "0.961\n",
            "0.9565003980727798\n"
          ],
          "name": "stdout"
        }
      ]
    },
    {
      "cell_type": "code",
      "metadata": {
        "colab": {
          "base_uri": "https://localhost:8080/"
        },
        "id": "g_CYmDGF-48p",
        "outputId": "5e5c75a1-0943-4039-b4d6-9e5efcd8b13f"
      },
      "source": [
        "svc_classifier = SVC()\n",
        "params = {'kernel':['rbf'], 'gamma':['scale','auto'], 'C': np.arange(10, 30)}\n",
        "\n",
        "grid_search = GridSearchCV(svc_classifier, params,  cv=3, n_jobs=-1)\n",
        "grid_search.fit(X_train, Y_train)\n",
        "print(grid_search.best_params_)"
      ],
      "execution_count": 89,
      "outputs": [
        {
          "output_type": "stream",
          "text": [
            "/usr/local/lib/python3.7/dist-packages/sklearn/utils/validation.py:760: DataConversionWarning: A column-vector y was passed when a 1d array was expected. Please change the shape of y to (n_samples, ), for example using ravel().\n",
            "  y = column_or_1d(y, warn=True)\n"
          ],
          "name": "stderr"
        },
        {
          "output_type": "stream",
          "text": [
            "{'C': 17, 'gamma': 'auto', 'kernel': 'rbf'}\n"
          ],
          "name": "stdout"
        }
      ]
    },
    {
      "cell_type": "code",
      "metadata": {
        "colab": {
          "base_uri": "https://localhost:8080/"
        },
        "id": "RHSHv_ACdzKB",
        "outputId": "1257ef29-72ec-4b62-9961-7524330b28ae"
      },
      "source": [
        "rbf_svc_classifier = SVC(kernel='rbf', C=17, gamma='auto')\n",
        "rbf_svc_classifier.fit(X_train, Y_train)\n",
        "\n",
        "Y_pred_svc = rbf_svc_classifier.predict(X_test)\n",
        "svc_accuracy = accuracy_score(Y_test, Y_pred_svc)\n",
        "\n",
        "rbf_svc_score = cross_validate_model(rbf_svc_classifier, X_train, Y_train)\n",
        "\n",
        "print(svc_accuracy)\n",
        "print(rbf_svc_score)"
      ],
      "execution_count": 91,
      "outputs": [
        {
          "output_type": "stream",
          "text": [
            "/usr/local/lib/python3.7/dist-packages/sklearn/utils/validation.py:760: DataConversionWarning: A column-vector y was passed when a 1d array was expected. Please change the shape of y to (n_samples, ), for example using ravel().\n",
            "  y = column_or_1d(y, warn=True)\n",
            "/usr/local/lib/python3.7/dist-packages/sklearn/utils/validation.py:760: DataConversionWarning: A column-vector y was passed when a 1d array was expected. Please change the shape of y to (n_samples, ), for example using ravel().\n",
            "  y = column_or_1d(y, warn=True)\n",
            "/usr/local/lib/python3.7/dist-packages/sklearn/utils/validation.py:760: DataConversionWarning: A column-vector y was passed when a 1d array was expected. Please change the shape of y to (n_samples, ), for example using ravel().\n",
            "  y = column_or_1d(y, warn=True)\n",
            "/usr/local/lib/python3.7/dist-packages/sklearn/utils/validation.py:760: DataConversionWarning: A column-vector y was passed when a 1d array was expected. Please change the shape of y to (n_samples, ), for example using ravel().\n",
            "  y = column_or_1d(y, warn=True)\n"
          ],
          "name": "stderr"
        },
        {
          "output_type": "stream",
          "text": [
            "0.968\n",
            "0.963812534871356\n"
          ],
          "name": "stdout"
        }
      ]
    },
    {
      "cell_type": "code",
      "metadata": {
        "colab": {
          "base_uri": "https://localhost:8080/"
        },
        "id": "yjn_HnJBOxkk",
        "outputId": "30f136dd-139d-4364-b17a-70518efbe213"
      },
      "source": [
        "log_classifier = LogisticRegression(max_iter=1000)\n",
        "log_classifier.fit(X_train, Y_train)\n",
        "\n",
        "Y_pred_log = log_classifier.predict(X_test)\n",
        "log_accuracy = accuracy_score(Y_test, Y_pred_log)\n",
        "\n",
        "log_score = cross_validate_model(log_classifier, X_train, Y_train)\n",
        "\n",
        "print(log_accuracy)\n",
        "print(log_score)"
      ],
      "execution_count": 59,
      "outputs": [
        {
          "output_type": "stream",
          "text": [
            "/usr/local/lib/python3.7/dist-packages/sklearn/utils/validation.py:760: DataConversionWarning: A column-vector y was passed when a 1d array was expected. Please change the shape of y to (n_samples, ), for example using ravel().\n",
            "  y = column_or_1d(y, warn=True)\n",
            "/usr/local/lib/python3.7/dist-packages/sklearn/utils/validation.py:760: DataConversionWarning: A column-vector y was passed when a 1d array was expected. Please change the shape of y to (n_samples, ), for example using ravel().\n",
            "  y = column_or_1d(y, warn=True)\n",
            "/usr/local/lib/python3.7/dist-packages/sklearn/utils/validation.py:760: DataConversionWarning: A column-vector y was passed when a 1d array was expected. Please change the shape of y to (n_samples, ), for example using ravel().\n",
            "  y = column_or_1d(y, warn=True)\n",
            "/usr/local/lib/python3.7/dist-packages/sklearn/utils/validation.py:760: DataConversionWarning: A column-vector y was passed when a 1d array was expected. Please change the shape of y to (n_samples, ), for example using ravel().\n",
            "  y = column_or_1d(y, warn=True)\n"
          ],
          "name": "stderr"
        },
        {
          "output_type": "stream",
          "text": [
            "0.773\n",
            "0.7725001935230625\n"
          ],
          "name": "stdout"
        }
      ]
    },
    {
      "cell_type": "code",
      "metadata": {
        "colab": {
          "base_uri": "https://localhost:8080/"
        },
        "id": "mZNQ2MVhPwGY",
        "outputId": "198238e1-fe41-4e1c-ee98-bb543d71017e"
      },
      "source": [
        "bag_classifier = BaggingClassifier(DecisionTreeClassifier(), n_estimators=1000, bootstrap=True, n_jobs=-1, oob_score=True)\n",
        "bag_classifier.fit(X_train, Y_train)\n",
        "\n",
        "Y_pred_bag = bag_classifier.predict(X_test)\n",
        "bag_accuracy = accuracy_score(Y_test, Y_pred_bag)\n",
        "\n",
        "bag_score = cross_validate_model(bag_classifier, X_train, Y_train)\n",
        "\n",
        "print(bag_accuracy)\n",
        "print(bag_score)"
      ],
      "execution_count": 60,
      "outputs": [
        {
          "output_type": "stream",
          "text": [
            "/usr/local/lib/python3.7/dist-packages/sklearn/ensemble/_bagging.py:645: DataConversionWarning: A column-vector y was passed when a 1d array was expected. Please change the shape of y to (n_samples, ), for example using ravel().\n",
            "  y = column_or_1d(y, warn=True)\n",
            "/usr/local/lib/python3.7/dist-packages/sklearn/ensemble/_bagging.py:645: DataConversionWarning: A column-vector y was passed when a 1d array was expected. Please change the shape of y to (n_samples, ), for example using ravel().\n",
            "  y = column_or_1d(y, warn=True)\n",
            "/usr/local/lib/python3.7/dist-packages/sklearn/ensemble/_bagging.py:645: DataConversionWarning: A column-vector y was passed when a 1d array was expected. Please change the shape of y to (n_samples, ), for example using ravel().\n",
            "  y = column_or_1d(y, warn=True)\n",
            "/usr/local/lib/python3.7/dist-packages/sklearn/ensemble/_bagging.py:645: DataConversionWarning: A column-vector y was passed when a 1d array was expected. Please change the shape of y to (n_samples, ), for example using ravel().\n",
            "  y = column_or_1d(y, warn=True)\n"
          ],
          "name": "stderr"
        },
        {
          "output_type": "stream",
          "text": [
            "0.944\n",
            "0.9388132104150774\n"
          ],
          "name": "stdout"
        }
      ]
    },
    {
      "cell_type": "code",
      "metadata": {
        "colab": {
          "base_uri": "https://localhost:8080/"
        },
        "id": "O3iRdbMrq23W",
        "outputId": "be53e371-3823-4171-fa89-2472b5e5994a"
      },
      "source": [
        "ada_classifier = AdaBoostClassifier(DecisionTreeClassifier(max_depth=5), n_estimators=1000, learning_rate=0.1)\n",
        "ada_classifier.fit(X_train, Y_train)\n",
        "\n",
        "Y_pred_ada = ada_classifier.predict(X_test)\n",
        "ada_accuracy = accuracy_score(Y_test, Y_pred_ada)\n",
        "\n",
        "ada_score = cross_validate_model(ada_classifier, X_train, Y_train)\n",
        "\n",
        "print(ada_accuracy)\n",
        "print(ada_score)"
      ],
      "execution_count": 65,
      "outputs": [
        {
          "output_type": "stream",
          "text": [
            "/usr/local/lib/python3.7/dist-packages/sklearn/utils/validation.py:760: DataConversionWarning: A column-vector y was passed when a 1d array was expected. Please change the shape of y to (n_samples, ), for example using ravel().\n",
            "  y = column_or_1d(y, warn=True)\n",
            "/usr/local/lib/python3.7/dist-packages/sklearn/utils/validation.py:760: DataConversionWarning: A column-vector y was passed when a 1d array was expected. Please change the shape of y to (n_samples, ), for example using ravel().\n",
            "  y = column_or_1d(y, warn=True)\n",
            "/usr/local/lib/python3.7/dist-packages/sklearn/utils/validation.py:760: DataConversionWarning: A column-vector y was passed when a 1d array was expected. Please change the shape of y to (n_samples, ), for example using ravel().\n",
            "  y = column_or_1d(y, warn=True)\n",
            "/usr/local/lib/python3.7/dist-packages/sklearn/utils/validation.py:760: DataConversionWarning: A column-vector y was passed when a 1d array was expected. Please change the shape of y to (n_samples, ), for example using ravel().\n",
            "  y = column_or_1d(y, warn=True)\n"
          ],
          "name": "stderr"
        },
        {
          "output_type": "stream",
          "text": [
            "0.831\n",
            "0.8404375104715136\n"
          ],
          "name": "stdout"
        }
      ]
    },
    {
      "cell_type": "code",
      "metadata": {
        "colab": {
          "base_uri": "https://localhost:8080/"
        },
        "id": "aOttrmu78lUu",
        "outputId": "55ff72ae-58d1-45b3-cae3-3dc876e70291"
      },
      "source": [
        "ada_classifier_2 = AdaBoostClassifier(RandomForestClassifier(), n_estimators=1000, learning_rate=0.1)\n",
        "ada_classifier_2.fit(X_train, Y_train)\n",
        "\n",
        "Y_pred_ada = ada_classifier_2.predict(X_test)\n",
        "ada_accuracy_2 = accuracy_score(Y_test, Y_pred_ada)\n",
        "\n",
        "ada_score_2 = cross_validate_model(ada_classifier_2, X_train, Y_train)\n",
        "\n",
        "print(ada_accuracy_2)\n",
        "print(ada_score_2)"
      ],
      "execution_count": 85,
      "outputs": [
        {
          "output_type": "stream",
          "text": [
            "/usr/local/lib/python3.7/dist-packages/sklearn/utils/validation.py:760: DataConversionWarning: A column-vector y was passed when a 1d array was expected. Please change the shape of y to (n_samples, ), for example using ravel().\n",
            "  y = column_or_1d(y, warn=True)\n",
            "/usr/local/lib/python3.7/dist-packages/sklearn/utils/validation.py:760: DataConversionWarning: A column-vector y was passed when a 1d array was expected. Please change the shape of y to (n_samples, ), for example using ravel().\n",
            "  y = column_or_1d(y, warn=True)\n",
            "/usr/local/lib/python3.7/dist-packages/sklearn/utils/validation.py:760: DataConversionWarning: A column-vector y was passed when a 1d array was expected. Please change the shape of y to (n_samples, ), for example using ravel().\n",
            "  y = column_or_1d(y, warn=True)\n",
            "/usr/local/lib/python3.7/dist-packages/sklearn/utils/validation.py:760: DataConversionWarning: A column-vector y was passed when a 1d array was expected. Please change the shape of y to (n_samples, ), for example using ravel().\n",
            "  y = column_or_1d(y, warn=True)\n"
          ],
          "name": "stderr"
        },
        {
          "output_type": "stream",
          "text": [
            "0.958\n",
            "0.9534377300906015\n"
          ],
          "name": "stdout"
        }
      ]
    },
    {
      "cell_type": "markdown",
      "metadata": {
        "id": "J7TMaQc_POI6"
      },
      "source": [
        "# Voting Classification"
      ]
    },
    {
      "cell_type": "code",
      "metadata": {
        "colab": {
          "base_uri": "https://localhost:8080/"
        },
        "id": "090P4yd9tFE0",
        "outputId": "a433b26c-cc4f-4515-de0b-ecc47733bb37"
      },
      "source": [
        "dt_clf = DecisionTreeClassifier(criterion='entropy')\n",
        "rf_clf = RandomForestClassifier(criterion='gini')\n",
        "sv_clf = SVC(kernel='rbf', C=17, gamma='auto')\n",
        "lg_clf = LogisticRegression(max_iter=1000)\n",
        "sg_clf = SGDClassifier()\n",
        "\n",
        "estimators = [('dt', dt_clf), ('rf', rf_clf), ('sv', sv_clf), ('lg', lg_clf), ('sg', sg_clf)]\n",
        "\n",
        "voting_clf = VotingClassifier(estimators=estimators, voting='hard')\n",
        "voting_clf.fit(X_train, Y_train)\n",
        "\n",
        "Y_pred_vote = voting_clf.predict(X_test)\n",
        "vote_accuracy = accuracy_score(Y_test, Y_pred_vote)\n",
        "\n",
        "vote_score = cross_validate_model(voting_clf, X_train, Y_train)\n",
        "\n",
        "print(vote_accuracy)\n",
        "print(vote_score)"
      ],
      "execution_count": 92,
      "outputs": [
        {
          "output_type": "stream",
          "text": [
            "/usr/local/lib/python3.7/dist-packages/sklearn/preprocessing/_label.py:235: DataConversionWarning: A column-vector y was passed when a 1d array was expected. Please change the shape of y to (n_samples, ), for example using ravel().\n",
            "  y = column_or_1d(y, warn=True)\n",
            "/usr/local/lib/python3.7/dist-packages/sklearn/preprocessing/_label.py:268: DataConversionWarning: A column-vector y was passed when a 1d array was expected. Please change the shape of y to (n_samples, ), for example using ravel().\n",
            "  y = column_or_1d(y, warn=True)\n",
            "/usr/local/lib/python3.7/dist-packages/sklearn/preprocessing/_label.py:235: DataConversionWarning: A column-vector y was passed when a 1d array was expected. Please change the shape of y to (n_samples, ), for example using ravel().\n",
            "  y = column_or_1d(y, warn=True)\n",
            "/usr/local/lib/python3.7/dist-packages/sklearn/preprocessing/_label.py:268: DataConversionWarning: A column-vector y was passed when a 1d array was expected. Please change the shape of y to (n_samples, ), for example using ravel().\n",
            "  y = column_or_1d(y, warn=True)\n",
            "/usr/local/lib/python3.7/dist-packages/sklearn/preprocessing/_label.py:235: DataConversionWarning: A column-vector y was passed when a 1d array was expected. Please change the shape of y to (n_samples, ), for example using ravel().\n",
            "  y = column_or_1d(y, warn=True)\n",
            "/usr/local/lib/python3.7/dist-packages/sklearn/preprocessing/_label.py:268: DataConversionWarning: A column-vector y was passed when a 1d array was expected. Please change the shape of y to (n_samples, ), for example using ravel().\n",
            "  y = column_or_1d(y, warn=True)\n",
            "/usr/local/lib/python3.7/dist-packages/sklearn/preprocessing/_label.py:235: DataConversionWarning: A column-vector y was passed when a 1d array was expected. Please change the shape of y to (n_samples, ), for example using ravel().\n",
            "  y = column_or_1d(y, warn=True)\n",
            "/usr/local/lib/python3.7/dist-packages/sklearn/preprocessing/_label.py:268: DataConversionWarning: A column-vector y was passed when a 1d array was expected. Please change the shape of y to (n_samples, ), for example using ravel().\n",
            "  y = column_or_1d(y, warn=True)\n"
          ],
          "name": "stderr"
        },
        {
          "output_type": "stream",
          "text": [
            "0.94575\n",
            "0.9440002378288875\n"
          ],
          "name": "stdout"
        }
      ]
    },
    {
      "cell_type": "code",
      "metadata": {
        "colab": {
          "base_uri": "https://localhost:8080/"
        },
        "id": "efgYvPCZwBPu",
        "outputId": "6cba4ca7-bd86-4d98-fa3d-4568678a282c"
      },
      "source": [
        "accuracy_scores = list()\n",
        "for clf in (dt_clf, rf_clf, sv_clf, lg_clf, sg_clf, voting_clf):\n",
        "  clf.fit(X_train, Y_train)\n",
        "  y_pred = clf.predict(X_test)\n",
        "  accuracy_scores.append(accuracy_score(Y_test, y_pred))"
      ],
      "execution_count": 94,
      "outputs": [
        {
          "output_type": "stream",
          "text": [
            "/usr/local/lib/python3.7/dist-packages/ipykernel_launcher.py:3: DataConversionWarning: A column-vector y was passed when a 1d array was expected. Please change the shape of y to (n_samples,), for example using ravel().\n",
            "  This is separate from the ipykernel package so we can avoid doing imports until\n",
            "/usr/local/lib/python3.7/dist-packages/sklearn/utils/validation.py:760: DataConversionWarning: A column-vector y was passed when a 1d array was expected. Please change the shape of y to (n_samples, ), for example using ravel().\n",
            "  y = column_or_1d(y, warn=True)\n",
            "/usr/local/lib/python3.7/dist-packages/sklearn/utils/validation.py:760: DataConversionWarning: A column-vector y was passed when a 1d array was expected. Please change the shape of y to (n_samples, ), for example using ravel().\n",
            "  y = column_or_1d(y, warn=True)\n",
            "/usr/local/lib/python3.7/dist-packages/sklearn/utils/validation.py:760: DataConversionWarning: A column-vector y was passed when a 1d array was expected. Please change the shape of y to (n_samples, ), for example using ravel().\n",
            "  y = column_or_1d(y, warn=True)\n",
            "/usr/local/lib/python3.7/dist-packages/sklearn/preprocessing/_label.py:235: DataConversionWarning: A column-vector y was passed when a 1d array was expected. Please change the shape of y to (n_samples, ), for example using ravel().\n",
            "  y = column_or_1d(y, warn=True)\n",
            "/usr/local/lib/python3.7/dist-packages/sklearn/preprocessing/_label.py:268: DataConversionWarning: A column-vector y was passed when a 1d array was expected. Please change the shape of y to (n_samples, ), for example using ravel().\n",
            "  y = column_or_1d(y, warn=True)\n"
          ],
          "name": "stderr"
        }
      ]
    },
    {
      "cell_type": "code",
      "metadata": {
        "colab": {
          "base_uri": "https://localhost:8080/",
          "height": 673
        },
        "id": "WED5Dy5Yw8Mk",
        "outputId": "7041a503-23bd-4cfc-8072-628c6d6594ae"
      },
      "source": [
        "accuracy_df = pd.DataFrame([accuracy_scores], columns=['Decision Tree', 'Random Forest', 'Support Vector', 'Logistic', 'Stochastic Gradient Descent', 'Voting'])\n",
        "print(accuracy_df)\n",
        "accuracy_df.plot(kind='bar', figsize=(20, 10), edgecolor='white', linewidth=3)"
      ],
      "execution_count": 95,
      "outputs": [
        {
          "output_type": "stream",
          "text": [
            "   Decision Tree  Random Forest  ...  Stochastic Gradient Descent  Voting\n",
            "0        0.88425         0.9615  ...                      0.64725  0.9505\n",
            "\n",
            "[1 rows x 6 columns]\n"
          ],
          "name": "stdout"
        },
        {
          "output_type": "execute_result",
          "data": {
            "text/plain": [
              "<matplotlib.axes._subplots.AxesSubplot at 0x7f13c3bc2e90>"
            ]
          },
          "metadata": {
            "tags": []
          },
          "execution_count": 95
        },
        {
          "output_type": "display_data",
          "data": {
            "image/png": "[encoded data removed]",
            "text/plain": [
              "<Figure size 1440x720 with 1 Axes>"
            ]
          },
          "metadata": {
            "tags": [],
            "needs_background": "light"
          }
        }
      ]
    },
    {
      "cell_type": "markdown",
      "metadata": {
        "id": "JNDjONBbPTOa"
      },
      "source": [
        "# Updated Voting Classification\n",
        "\n",
        "---\n",
        "Previous voting classification underperformed both support vector and random detective.  \n",
        "\n",
        "*   Remove underperforming modes (SGD and Logistic)\n",
        "*   Replace Decision Tree Classification with Bagging based on Decision Tree\n",
        "*   Replace Random Forest with AdaBoosted Random Forest\n",
        "\n",
        "\n",
        "\n"
      ]
    },
    {
      "cell_type": "code",
      "metadata": {
        "id": "MYvNkiv434Fv"
      },
      "source": [
        "bag_clf = BaggingClassifier(DecisionTreeClassifier(), n_estimators=1000, bootstrap=True, n_jobs=-1, oob_score=True)\n",
        "ada_clf = AdaBoostClassifier(RandomForestClassifier(), n_estimators=1000, learning_rate=0.1)\n",
        "sv_clf_2 = SVC(kernel='rbf', C=17, gamma='auto')\n",
        "\n",
        "\n",
        "estimators = [('bag', bag_clf), ('ada', ada_clf), ('sv', sv_clf_2)]\n",
        "\n",
        "voting_clf_2 = VotingClassifier(estimators=estimators, voting='hard')\n",
        "#voting_clf_2.fit(X_train, Y_train)\n",
        "\n",
        "#Y_pred_vote = voting_clf_2.predict(X_test)\n",
        "#vote_accuracy = accuracy_score(Y_test, Y_pred_vote)\n",
        "\n",
        "#vote_score = cross_validate_model(voting_clf_2, X_train, Y_train)\n",
        "\n",
        "#print(vote_accuracy)\n",
        "#print(vote_score)"
      ],
      "execution_count": 100,
      "outputs": []
    },
    {
      "cell_type": "code",
      "metadata": {
        "colab": {
          "base_uri": "https://localhost:8080/"
        },
        "id": "-0pLOKVn4W-a",
        "outputId": "5a2123da-d30c-4d10-c1b0-56d17c460c53"
      },
      "source": [
        "accuracy_scores_2 = list()\n",
        "for clf in (bag_clf, ada_clf, sv_clf_2, voting_clf_2):\n",
        "  clf.fit(X_train, Y_train)\n",
        "  y_pred = clf.predict(X_test)\n",
        "  accuracy_scores_2.append(accuracy_score(Y_test, y_pred))"
      ],
      "execution_count": 101,
      "outputs": [
        {
          "output_type": "stream",
          "text": [
            "/usr/local/lib/python3.7/dist-packages/sklearn/ensemble/_bagging.py:645: DataConversionWarning: A column-vector y was passed when a 1d array was expected. Please change the shape of y to (n_samples, ), for example using ravel().\n",
            "  y = column_or_1d(y, warn=True)\n",
            "/usr/local/lib/python3.7/dist-packages/sklearn/utils/validation.py:760: DataConversionWarning: A column-vector y was passed when a 1d array was expected. Please change the shape of y to (n_samples, ), for example using ravel().\n",
            "  y = column_or_1d(y, warn=True)\n",
            "/usr/local/lib/python3.7/dist-packages/sklearn/utils/validation.py:760: DataConversionWarning: A column-vector y was passed when a 1d array was expected. Please change the shape of y to (n_samples, ), for example using ravel().\n",
            "  y = column_or_1d(y, warn=True)\n",
            "/usr/local/lib/python3.7/dist-packages/sklearn/preprocessing/_label.py:235: DataConversionWarning: A column-vector y was passed when a 1d array was expected. Please change the shape of y to (n_samples, ), for example using ravel().\n",
            "  y = column_or_1d(y, warn=True)\n",
            "/usr/local/lib/python3.7/dist-packages/sklearn/preprocessing/_label.py:268: DataConversionWarning: A column-vector y was passed when a 1d array was expected. Please change the shape of y to (n_samples, ), for example using ravel().\n",
            "  y = column_or_1d(y, warn=True)\n"
          ],
          "name": "stderr"
        }
      ]
    },
    {
      "cell_type": "code",
      "metadata": {
        "colab": {
          "base_uri": "https://localhost:8080/",
          "height": 639
        },
        "id": "W-Ghn8kO6PgJ",
        "outputId": "7e4d61a1-0475-44e0-c4ab-fbb6d3c4cceb"
      },
      "source": [
        "accuracy_df_2 = pd.DataFrame([accuracy_scores_2], columns=['Bagging', 'AdaBoost', 'Support Vector', 'Voting'])\n",
        "print(accuracy_df_2)\n",
        "accuracy_df_2.plot(kind='bar', figsize=(20, 10), edgecolor='white', linewidth=3, align = 'edge')"
      ],
      "execution_count": 103,
      "outputs": [
        {
          "output_type": "stream",
          "text": [
            "   Bagging  AdaBoost  Support Vector   Voting\n",
            "0    0.945    0.9595           0.968  0.96525\n"
          ],
          "name": "stdout"
        },
        {
          "output_type": "execute_result",
          "data": {
            "text/plain": [
              "<matplotlib.axes._subplots.AxesSubplot at 0x7f13bdd8d610>"
            ]
          },
          "metadata": {
            "tags": []
          },
          "execution_count": 103
        },
        {
          "output_type": "display_data",
          "data": {
            "image/png": "[encoded data removed]",
            "text/plain": [
              "<Figure size 1440x720 with 1 Axes>"
            ]
          },
          "metadata": {
            "tags": [],
            "needs_background": "light"
          }
        }
      ]
    },
    {
      "cell_type": "markdown",
      "metadata": {
        "id": "e4kzcBMdR5Gb"
      },
      "source": [
        "# K-Means\n"
      ]
    },
    {
      "cell_type": "markdown",
      "metadata": {
        "id": "uiR-bSm3VuIr"
      },
      "source": [
        "**Initial K-Means**\n",
        "\n",
        "---"
      ]
    },
    {
      "cell_type": "code",
      "metadata": {
        "id": "V5GpekzJR4wH"
      },
      "source": [
        "kmeans_per_k = [KMeans(n_clusters=k).fit(X) for k in range(1, 52)]\n",
        "inertias = [model.inertia_ for model in kmeans_per_k]"
      ],
      "execution_count": 111,
      "outputs": []
    },
    {
      "cell_type": "code",
      "metadata": {
        "colab": {
          "base_uri": "https://localhost:8080/"
        },
        "id": "0LpPDvYzgwnM",
        "outputId": "50667465-b942-4267-893b-d9fdd4390f56"
      },
      "source": [
        "print(inertias)"
      ],
      "execution_count": 112,
      "outputs": [
        {
          "output_type": "stream",
          "text": [
            "[320000.0, 263292.9799678186, 236712.66631107737, 220556.94630584822, 206889.1520529173, 197113.70542224727, 188463.54675107534, 180563.81444128437, 173695.69470102593, 167316.24636435648, 161509.40117689662, 156460.7493304933, 152456.99242298564, 148991.965561637, 145731.54883680693, 142910.07921281288, 140176.40488033165, 137430.1211223921, 135538.44727851046, 132901.01853716225, 130555.86134961157, 128792.54532005495, 127048.20090136235, 125068.20558772502, 122870.18316682482, 121329.9783923218, 119711.58574023673, 118067.97409777573, 116080.51726712953, 115160.88272174713, 113582.83095281397, 112161.19718913856, 110959.11095322586, 109209.9466239323, 107832.87382813958, 107286.48305143265, 105758.28137013134, 104637.45079228826, 103788.66614050695, 102922.18321554798, 101602.73055879961, 100723.02129601757, 99911.33456547251, 98951.6905109023, 98156.09000868126, 97345.08136982545, 96283.6181940504, 95607.59121424716, 94705.96903260128, 94328.70854502557, 93517.50679912229]\n"
          ],
          "name": "stdout"
        }
      ]
    },
    {
      "cell_type": "code",
      "metadata": {
        "colab": {
          "base_uri": "https://localhost:8080/",
          "height": 261
        },
        "id": "dowqjT6ug0de",
        "outputId": "f059b52f-b23a-4590-ab24-2587e7601d71"
      },
      "source": [
        "plt.figure(figsize=(8, 3.5))\n",
        "plt.plot(range(1, 52), inertias, \"bo-\")\n",
        "plt.xlabel(\"$k$\", fontsize=14)\n",
        "plt.ylabel(\"Inertia\", fontsize=14)\n",
        "plt.axis([1, 52, 0, 300000])\n",
        "plt.show()"
      ],
      "execution_count": 116,
      "outputs": [
        {
          "output_type": "display_data",
          "data": {
            "image/png": "[encoded data removed]",
            "text/plain": [
              "<Figure size 576x252 with 1 Axes>"
            ]
          },
          "metadata": {
            "tags": [],
            "needs_background": "light"
          }
        }
      ]
    },
    {
      "cell_type": "code",
      "metadata": {
        "id": "DaU1tqdTlL4o",
        "outputId": "efeff383-00d4-46db-df2d-0e7b1b12753f",
        "colab": {
          "base_uri": "https://localhost:8080/"
        }
      },
      "source": [
        "silhouette_scores = [silhouette_score(X, model.labels_) for model in kmeans_per_k[1:]]\n",
        "print(silhouette_scores)"
      ],
      "execution_count": 118,
      "outputs": [
        {
          "output_type": "stream",
          "text": [
            "[0.16074690055983482, 0.15129292766048602, 0.12364550644406094, 0.13168369449902353, 0.13623879553403728, 0.13359605660515886, 0.139754400141575, 0.13694847927363138, 0.1476079359794721, 0.14276557601191167, 0.14654463605102497, 0.1442172560778213, 0.14452047105398605, 0.1429459037885536, 0.13996810914422686, 0.14244815727315407, 0.14266601987924327, 0.1354365258928007, 0.14287804136647977, 0.1392804783819621, 0.14356140809617166, 0.13968111392421745, 0.13816737534046172, 0.14090468901773412, 0.13964027901633375, 0.1464130347108094, 0.1466002396516151, 0.14837441352064684, 0.14800412177852268, 0.14870693192961468, 0.14974830277304563, 0.14684574551355306, 0.15462718795279173, 0.15397279421665253, 0.1532481921308084, 0.15723732758177966, 0.15417127530055547, 0.15819767975426177, 0.15463825756448046, 0.16186632224688913, 0.1586074757229793, 0.15738613931297682, 0.1601922816670355, 0.16049179529316476, 0.1594087073750397, 0.16362112689894515, 0.1619019589945509, 0.1651082679940901, 0.16288275137465516, 0.16411248702015027]\n"
          ],
          "name": "stdout"
        }
      ]
    },
    {
      "cell_type": "code",
      "metadata": {
        "id": "q5xFELjhlSXC",
        "outputId": "e6903408-3469-47d8-846b-7493a9af84be",
        "colab": {
          "base_uri": "https://localhost:8080/",
          "height": 234
        }
      },
      "source": [
        "plt.figure(figsize=(8, 3))\n",
        "plt.plot(range(2, 52), silhouette_scores, \"bo-\")\n",
        "plt.xlabel(\"$k$\", fontsize=14)\n",
        "plt.ylabel(\"Silhouette score\", fontsize=14)\n",
        "plt.axis([0, 52, 0.1, 0.2])\n",
        "plt.show()"
      ],
      "execution_count": 122,
      "outputs": [
        {
          "output_type": "display_data",
          "data": {
            "image/png": "[encoded data removed]",
            "text/plain": [
              "<Figure size 576x216 with 1 Axes>"
            ]
          },
          "metadata": {
            "tags": [],
            "needs_background": "light"
          }
        }
      ]
    },
    {
      "cell_type": "markdown",
      "metadata": {
        "id": "7J8moovVsczD"
      },
      "source": [
        "# Feature Importance"
      ]
    },
    {
      "cell_type": "code",
      "metadata": {
        "id": "RpHNTubPscYV",
        "outputId": "d8693443-a858-4c99-dda0-d25674d9d453",
        "colab": {
          "base_uri": "https://localhost:8080/"
        }
      },
      "source": [
        "random_forest = RandomForestClassifier(n_estimators=500, n_jobs=-1)\n",
        "random_forest.fit(X_train, Y_train)"
      ],
      "execution_count": 124,
      "outputs": [
        {
          "output_type": "stream",
          "text": [
            "/usr/local/lib/python3.7/dist-packages/ipykernel_launcher.py:2: DataConversionWarning: A column-vector y was passed when a 1d array was expected. Please change the shape of y to (n_samples,), for example using ravel().\n",
            "  \n"
          ],
          "name": "stderr"
        },
        {
          "output_type": "execute_result",
          "data": {
            "text/plain": [
              "RandomForestClassifier(bootstrap=True, ccp_alpha=0.0, class_weight=None,\n",
              "                       criterion='gini', max_depth=None, max_features='auto',\n",
              "                       max_leaf_nodes=None, max_samples=None,\n",
              "                       min_impurity_decrease=0.0, min_impurity_split=None,\n",
              "                       min_samples_leaf=1, min_samples_split=2,\n",
              "                       min_weight_fraction_leaf=0.0, n_estimators=500,\n",
              "                       n_jobs=-1, oob_score=False, random_state=None, verbose=0,\n",
              "                       warm_start=False)"
            ]
          },
          "metadata": {
            "tags": []
          },
          "execution_count": 124
        }
      ]
    },
    {
      "cell_type": "code",
      "metadata": {
        "id": "8KzO0HX_s6H4",
        "outputId": "6e154775-7f0c-4579-ce89-b37f06c020be",
        "colab": {
          "base_uri": "https://localhost:8080/",
          "height": 286
        }
      },
      "source": [
        "feature_importances_rf = random_forest.feature_importances_\n",
        "\n",
        "labels = X_train.columns\n",
        "x = np.arange(len(labels))\n",
        "fig, ax = plt.subplots()\n",
        "ax.bar(x, feature_importances_rf)\n",
        "ax.set_xticks(x)\n",
        "ax.set_xticklabels(labels, rotation='vertical')\n",
        "fig.show()"
      ],
      "execution_count": 146,
      "outputs": [
        {
          "output_type": "display_data",
          "data": {
            "image/png": "[encoded data removed]",
            "text/plain": [
              "<Figure size 432x288 with 1 Axes>"
            ]
          },
          "metadata": {
            "tags": [],
            "needs_background": "light"
          }
        }
      ]
    },
    {
      "cell_type": "code",
      "metadata": {
        "id": "UJeCwZI2wnxU",
        "outputId": "76ec2b2c-e01b-4b11-80eb-b9e2bf9ca195",
        "colab": {
          "base_uri": "https://localhost:8080/",
          "height": 301
        }
      },
      "source": [
        "feature_importances_dt = tree_classifier_opt.feature_importances_\n",
        "\n",
        "labels = X_train.columns\n",
        "x = np.arange(len(labels))\n",
        "width = 0.35\n",
        "fig, ax = plt.subplots()\n",
        "ax.bar(x-width/2, feature_importances_rf, width, label='Random Forest')\n",
        "ax.bar(x+width/2, feature_importances_dt, width, label='Decision Tree', color='orange')\n",
        "ax.set_xticks(x)\n",
        "ax.set_xticklabels(labels, rotation='vertical')\n",
        "ax.legend(bbox_to_anchor = (1.4, 1.0), loc='upper right')\n",
        "plt.title('Feature Importance Comparison')\n",
        "\n",
        "plt.show()"
      ],
      "execution_count": 159,
      "outputs": [
        {
          "output_type": "display_data",
          "data": {
            "image/png": "[encoded data removed]",
            "text/plain": [
              "<Figure size 432x288 with 1 Axes>"
            ]
          },
          "metadata": {
            "tags": [],
            "needs_background": "light"
          }
        }
      ]
    }
  ]
}