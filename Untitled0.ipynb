{
  "nbformat": 4,
  "nbformat_minor": 0,
  "metadata": {
    "colab": {
      "name": "Untitled0.ipynb",
      "provenance": [],
      "collapsed_sections": []
    },
    "kernelspec": {
      "name": "python3",
      "display_name": "Python 3"
    },
    "language_info": {
      "name": "python"
    }
  },
  "cells": [
    {
      "cell_type": "code",
      "metadata": {
        "id": "rXGuff5P4jcw",
        "colab": {
          "base_uri": "https://localhost:8080/"
        },
        "outputId": "0ed40104-bfa3-407e-d635-d4dc08011900"
      },
      "source": [
        "import urllib.request\n",
        "import os\n",
        "datapath = os.path.join(\"datasets\", \"forestfires\", \"\")\n",
        "os.makedirs(datapath, exist_ok=True)\n",
        "file_path = \"https://archive.ics.uci.edu/ml/machine-learning-databases/forest-fires/forestfires.csv\"\n",
        "urllib.request.urlretrieve(file_path, datapath + \"forestfires.csv\")"
      ],
      "execution_count": 4,
      "outputs": [
        {
          "output_type": "execute_result",
          "data": {
            "text/plain": [
              "('datasets/forestfires/forestfires.csv',\n",
              " <http.client.HTTPMessage at 0x7f54b29fdc10>)"
            ]
          },
          "metadata": {
            "tags": []
          },
          "execution_count": 4
        }
      ]
    },
    {
      "cell_type": "code",
      "metadata": {
        "id": "WD-SXJRF_E1l"
      },
      "source": [
        "import matplotlib.pyplot as plt\n",
        "import numpy as np\n",
        "import pandas as pd\n",
        "forest_fires = pd.read_csv(datapath + \"forestfires.csv\", thousands=',')"
      ],
      "execution_count": null,
      "outputs": []
    }
  ]
}