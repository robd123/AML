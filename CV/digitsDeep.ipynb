{
  "nbformat": 4,
  "nbformat_minor": 0,
  "metadata": {
    "colab": {
      "name": "digits.ipynb",
      "provenance": [],
      "collapsed_sections": [],
      "toc_visible": true,
      "authorship_tag": "ABX9TyOiFYxo+mwGW6wtbdOuJmwT",
      "include_colab_link": true
    },
    "kernelspec": {
      "name": "python3",
      "display_name": "Python 3"
    },
    "language_info": {
      "name": "python"
    },
    "accelerator": "GPU"
  },
  "cells": [
    {
      "cell_type": "markdown",
      "metadata": {
        "id": "view-in-github",
        "colab_type": "text"
      },
      "source": [
        "<a href=\"https://colab.research.google.com/github/robd123/AML/blob/main/CV/digitsDeep.ipynb\" target=\"_parent\"><img src=\"https://colab.research.google.com/assets/colab-badge.svg\" alt=\"Open In Colab\"/></a>"
      ]
    },
    {
      "cell_type": "code",
      "metadata": {
        "id": "xpjclsPzrIO_"
      },
      "source": [
        "import tensorflow as tf\n",
        "from tensorflow import keras\n",
        "from sklearn.model_selection import train_test_split\n",
        "import matplotlib.pyplot as plt\n",
        "import numpy as np\n",
        "import seaborn as sns\n",
        "import pandas as pd\n",
        "\n",
        "from time import time\n",
        "\n",
        "from sklearn.metrics import confusion_matrix, classification_report, accuracy_score\n",
        "\n",
        "from datetime import datetime"
      ],
      "execution_count": 18,
      "outputs": []
    },
    {
      "cell_type": "code",
      "metadata": {
        "colab": {
          "base_uri": "https://localhost:8080/"
        },
        "id": "_HFspQZDrXQM",
        "outputId": "e3161fa0-ef7e-42cf-f03f-2c6680fc9a6f"
      },
      "source": [
        "which = 3\n",
        "out_file = 'numbers'\n",
        "print( 'input data: ', out_file )\n",
        "class_names = [ '0', '1', '2', '3', '4', '5', '6', '7', '8', '9' ]\n",
        "(train_images, train_labels), (test_images, test_labels) = keras.datasets.mnist.load_data()\n",
        "channels = 1  #gray=1; rgb=3"
      ],
      "execution_count": 19,
      "outputs": [
        {
          "output_type": "stream",
          "text": [
            "input data:  numbers\n"
          ],
          "name": "stdout"
        }
      ]
    },
    {
      "cell_type": "markdown",
      "metadata": {
        "id": "BH8GjVzPwRtx"
      },
      "source": [
        "**TODO #1 - Use a Randomized 80/20 Split for Training and Test Data**"
      ]
    },
    {
      "cell_type": "code",
      "metadata": {
        "colab": {
          "base_uri": "https://localhost:8080/"
        },
        "id": "b25-18i7ruOA",
        "outputId": "ac7d2620-2aa8-4129-afb0-f28ece4aad7c"
      },
      "source": [
        "X = np.concatenate((train_images, test_images), axis = 0)\n",
        "Y = np.concatenate((train_labels, test_labels), axis = 0)\n",
        "\n",
        "print(X.shape)\n",
        "print(Y.shape)\n",
        "\n",
        "x_train, x_test, y_train, y_test = train_test_split(X, Y, test_size = 0.20)\n",
        "\n",
        "#Keep these since they are used later.  Reassign them to the new randomly split data\n",
        "train_images = x_train\n",
        "train_labels = y_train\n",
        "test_images = x_test\n",
        "test_labels = y_test\n",
        "\n",
        "print( \"# of training images and their size:\", train_images.shape       )\n",
        "print( \"# of training labels and their size:\", train_labels.shape, \"\\n\" )\n",
        "\n",
        "print( \"# of testing images and their size:\",  test_images.shape        )\n",
        "print( \"# of testing labels and their size:\",  test_labels.shape        )"
      ],
      "execution_count": 20,
      "outputs": [
        {
          "output_type": "stream",
          "text": [
            "(70000, 28, 28)\n",
            "(70000,)\n",
            "# of training images and their size: (56000, 28, 28)\n",
            "# of training labels and their size: (56000,) \n",
            "\n",
            "# of testing images and their size: (14000, 28, 28)\n",
            "# of testing labels and their size: (14000,)\n"
          ],
          "name": "stdout"
        }
      ]
    },
    {
      "cell_type": "code",
      "metadata": {
        "colab": {
          "base_uri": "https://localhost:8080/"
        },
        "id": "MYz1rFmkr1jd",
        "outputId": "15d112f2-faa6-4438-b59f-871f5b341976"
      },
      "source": [
        "img_rows    = x_train.shape[1]\n",
        "img_cols    = x_train.shape[2]\n",
        "input_shape = (img_rows, img_cols, channels)    #channels = 1 for gray (3 for color/rgb)\n",
        "\n",
        "t1 = np.min( x_train )\n",
        "t2 = np.min( x_test )\n",
        "mn = np.min( [t1, t2] )\n",
        "\n",
        "t1 = np.max( x_train )\n",
        "t2 = np.max( x_test )\n",
        "mx = np.min( [t1, t2] )\n",
        "\n",
        "print( 'rows =', img_rows )\n",
        "print( 'cols =', img_cols )\n",
        "print( 'channels =', channels, '\\n' )\n",
        "print( 'min =', mn )\n",
        "print( 'max =', mx )"
      ],
      "execution_count": 21,
      "outputs": [
        {
          "output_type": "stream",
          "text": [
            "rows = 28\n",
            "cols = 28\n",
            "channels = 1 \n",
            "\n",
            "min = 0\n",
            "max = 255\n"
          ],
          "name": "stdout"
        }
      ]
    },
    {
      "cell_type": "code",
      "metadata": {
        "colab": {
          "base_uri": "https://localhost:8080/"
        },
        "id": "ti8X-ufTr6Ax",
        "outputId": "a95a95b8-8b8d-4105-b392-4814c57fa19b"
      },
      "source": [
        "print( '# of training images: ', len(x_train) )\n",
        "print( 'shape before: ', x_train.shape )\n",
        "\n",
        "#prep training images\n",
        "x_train = x_train.reshape( x_train.shape[0], img_rows, img_cols, channels )\n",
        "x_train = x_train.astype( 'float32' )\n",
        "\n",
        "assert mx == 255, \"check range of data values\"\n",
        "x_train /= 255.0  #normalize\n",
        "\n",
        "print( 'shape after: ', x_train.shape )\n",
        "\n",
        "\"\"\"### prep testing\"\"\"\n",
        "\n",
        "print( '# of testing images: ', len(x_test) )\n",
        "print( 'shape before: ', x_test.shape )\n"
      ],
      "execution_count": 22,
      "outputs": [
        {
          "output_type": "stream",
          "text": [
            "# of training images:  56000\n",
            "shape before:  (56000, 28, 28)\n",
            "shape after:  (56000, 28, 28, 1)\n",
            "# of testing images:  14000\n",
            "shape before:  (14000, 28, 28)\n"
          ],
          "name": "stdout"
        }
      ]
    },
    {
      "cell_type": "code",
      "metadata": {
        "id": "gG9NAw6Gr6e5"
      },
      "source": [
        "#prep testing images\n",
        "x_test = x_test.reshape( x_test.shape[0], img_rows, img_cols, channels )\n",
        "x_test = x_test.astype( 'float32' )\n",
        "assert mx == 255, \"check range of data values\"\n",
        "x_test /= 255.0  #normalize"
      ],
      "execution_count": 23,
      "outputs": []
    },
    {
      "cell_type": "markdown",
      "metadata": {
        "id": "Rfimi42WCNhv"
      },
      "source": [
        "**Create Convolutional Model**"
      ]
    },
    {
      "cell_type": "code",
      "metadata": {
        "id": "0qDuZdDPsaKw"
      },
      "source": [
        "model = keras.models.Sequential([\n",
        "                                      keras.layers.Conv2D(64, 7, activation='relu', padding='same', input_shape=input_shape),\n",
        "                                      keras.layers.MaxPooling2D(2),\n",
        "                                      keras.layers.Conv2D(128, 3, activation='relu', padding='same'),\n",
        "                                      keras.layers.Conv2D(128, 3, activation='relu', padding='same'),\n",
        "                                      keras.layers.MaxPooling2D(2),\n",
        "                                      keras.layers.Conv2D(256, 3, activation='relu', padding='same'),\n",
        "                                      keras.layers.Conv2D(256, 3, activation='relu', padding='same'),\n",
        "                                      keras.layers.MaxPooling2D(2),\n",
        "                                      keras.layers.Flatten(),\n",
        "                                      keras.layers.Dense(128, activation='relu'),\n",
        "                                      keras.layers.Dropout(0.5),\n",
        "                                      keras.layers.Dense(64, activation='relu'),\n",
        "                                      keras.layers.Dropout(0.5),\n",
        "                                      keras.layers.Dense( len(class_names), activation='softmax' )\n",
        "])\n",
        "model.compile( optimizer='adam',\n",
        "               loss='sparse_categorical_crossentropy',\n",
        "               metrics=['accuracy'] )"
      ],
      "execution_count": 24,
      "outputs": []
    },
    {
      "cell_type": "code",
      "metadata": {
        "colab": {
          "base_uri": "https://localhost:8080/",
          "height": 1000
        },
        "id": "w9HeRkGmsdhk",
        "outputId": "8b262eb4-6b3b-4d79-e2a5-6000faf6ec83"
      },
      "source": [
        "tf.keras.utils.plot_model(\n",
        "    model, to_file='model.png', show_shapes=False, show_layer_names=True,\n",
        "    rankdir='TB', expand_nested=False, dpi=96 )\n"
      ],
      "execution_count": 7,
      "outputs": [
        {
          "output_type": "execute_result",
          "data": {
            "image/png": "[encoded data removed]",
            "text/plain": [
              "<IPython.core.display.Image object>"
            ]
          },
          "metadata": {
            "tags": []
          },
          "execution_count": 7
        }
      ]
    },
    {
      "cell_type": "code",
      "metadata": {
        "id": "r9lgWIsBsfaa"
      },
      "source": [
        "# Define the Keras TensorBoard callback.\n",
        "logdir = \"logs/fit/\" + datetime.now().strftime( \"%Y%m%d-%H%M%S\" )\n",
        "tensorboard_callback = keras.callbacks.TensorBoard( log_dir=logdir )"
      ],
      "execution_count": 9,
      "outputs": []
    },
    {
      "cell_type": "markdown",
      "metadata": {
        "id": "2oT-J2EWxDcD"
      },
      "source": [
        "**TODO #2 - Train Model, Use Test Data for Validation**\n",
        "\n",
        "---\n",
        "Validation data does not affect the training of the model, it just provides metrics, so the test set can be used for validation.\n"
      ]
    },
    {
      "cell_type": "code",
      "metadata": {
        "colab": {
          "base_uri": "https://localhost:8080/"
        },
        "id": "XZW2vIwcsirG",
        "outputId": "b39cb01d-92a3-45a9-d4d4-249ab5b3a6e1"
      },
      "source": [
        "print( \"training ... \\n\" )\n",
        "ep = 100\n",
        "start = time()\n",
        "h = model.fit( x_train, y_train, epochs=ep, callbacks=[tensorboard_callback],  validation_data=(x_test, y_test))\n",
        "elapsed_training_time = time() - start"
      ],
      "execution_count": 25,
      "outputs": [
        {
          "output_type": "stream",
          "text": [
            "training ... \n",
            "\n",
            "Epoch 1/100\n",
            "1750/1750 [==============================] - 46s 7ms/step - loss: 0.7846 - accuracy: 0.7345 - val_loss: 0.1042 - val_accuracy: 0.9763\n",
            "Epoch 2/100\n",
            "1750/1750 [==============================] - 12s 7ms/step - loss: 0.1206 - accuracy: 0.9705 - val_loss: 0.0658 - val_accuracy: 0.9845\n",
            "Epoch 3/100\n",
            "1750/1750 [==============================] - 12s 7ms/step - loss: 0.0859 - accuracy: 0.9794 - val_loss: 0.0674 - val_accuracy: 0.9861\n",
            "Epoch 4/100\n",
            "1750/1750 [==============================] - 12s 7ms/step - loss: 0.0660 - accuracy: 0.9852 - val_loss: 0.0507 - val_accuracy: 0.9891\n",
            "Epoch 5/100\n",
            "1750/1750 [==============================] - 12s 7ms/step - loss: 0.0509 - accuracy: 0.9878 - val_loss: 0.0718 - val_accuracy: 0.9866\n",
            "Epoch 6/100\n",
            "1750/1750 [==============================] - 12s 7ms/step - loss: 0.0522 - accuracy: 0.9882 - val_loss: 0.0731 - val_accuracy: 0.9881\n",
            "Epoch 7/100\n",
            "1750/1750 [==============================] - 12s 7ms/step - loss: 0.0473 - accuracy: 0.9896 - val_loss: 0.0557 - val_accuracy: 0.9901\n",
            "Epoch 8/100\n",
            "1750/1750 [==============================] - 12s 7ms/step - loss: 0.0427 - accuracy: 0.9905 - val_loss: 0.0629 - val_accuracy: 0.9894\n",
            "Epoch 9/100\n",
            "1750/1750 [==============================] - 12s 7ms/step - loss: 0.0376 - accuracy: 0.9914 - val_loss: 0.0800 - val_accuracy: 0.9874\n",
            "Epoch 10/100\n",
            "1750/1750 [==============================] - 12s 7ms/step - loss: 0.0427 - accuracy: 0.9909 - val_loss: 0.0786 - val_accuracy: 0.9916\n",
            "Epoch 11/100\n",
            "1750/1750 [==============================] - 12s 7ms/step - loss: 0.0293 - accuracy: 0.9934 - val_loss: 0.0905 - val_accuracy: 0.9905\n",
            "Epoch 12/100\n",
            "1750/1750 [==============================] - 12s 7ms/step - loss: 0.0301 - accuracy: 0.9939 - val_loss: 0.0683 - val_accuracy: 0.9896\n",
            "Epoch 13/100\n",
            "1750/1750 [==============================] - 12s 7ms/step - loss: 0.0300 - accuracy: 0.9934 - val_loss: 0.0721 - val_accuracy: 0.9913\n",
            "Epoch 14/100\n",
            "1750/1750 [==============================] - 12s 7ms/step - loss: 0.0354 - accuracy: 0.9934 - val_loss: 0.1018 - val_accuracy: 0.9886\n",
            "Epoch 15/100\n",
            "1750/1750 [==============================] - 12s 7ms/step - loss: 0.0356 - accuracy: 0.9924 - val_loss: 0.0798 - val_accuracy: 0.9909\n",
            "Epoch 16/100\n",
            "1750/1750 [==============================] - 12s 7ms/step - loss: 0.0259 - accuracy: 0.9939 - val_loss: 0.1051 - val_accuracy: 0.9873\n",
            "Epoch 17/100\n",
            "1750/1750 [==============================] - 12s 7ms/step - loss: 0.0327 - accuracy: 0.9934 - val_loss: 0.0835 - val_accuracy: 0.9915\n",
            "Epoch 18/100\n",
            "1750/1750 [==============================] - 12s 7ms/step - loss: 0.0251 - accuracy: 0.9944 - val_loss: 0.1001 - val_accuracy: 0.9892\n",
            "Epoch 19/100\n",
            "1750/1750 [==============================] - 12s 7ms/step - loss: 0.0363 - accuracy: 0.9937 - val_loss: 0.0680 - val_accuracy: 0.9875\n",
            "Epoch 20/100\n",
            "1750/1750 [==============================] - 12s 7ms/step - loss: 0.0289 - accuracy: 0.9931 - val_loss: 0.0632 - val_accuracy: 0.9921\n",
            "Epoch 21/100\n",
            "1750/1750 [==============================] - 12s 7ms/step - loss: 0.0191 - accuracy: 0.9958 - val_loss: 0.0925 - val_accuracy: 0.9908\n",
            "Epoch 22/100\n",
            "1750/1750 [==============================] - 12s 7ms/step - loss: 0.0279 - accuracy: 0.9937 - val_loss: 0.0897 - val_accuracy: 0.9906\n",
            "Epoch 23/100\n",
            "1750/1750 [==============================] - 12s 7ms/step - loss: 0.0208 - accuracy: 0.9954 - val_loss: 0.0966 - val_accuracy: 0.9909\n",
            "Epoch 24/100\n",
            "1750/1750 [==============================] - 12s 7ms/step - loss: 0.0273 - accuracy: 0.9943 - val_loss: 0.0752 - val_accuracy: 0.9911\n",
            "Epoch 25/100\n",
            "1750/1750 [==============================] - 12s 7ms/step - loss: 0.0289 - accuracy: 0.9942 - val_loss: 0.0779 - val_accuracy: 0.9929\n",
            "Epoch 26/100\n",
            "1750/1750 [==============================] - 12s 7ms/step - loss: 0.0275 - accuracy: 0.9946 - val_loss: 0.1068 - val_accuracy: 0.9914\n",
            "Epoch 27/100\n",
            "1750/1750 [==============================] - 12s 7ms/step - loss: 0.0233 - accuracy: 0.9947 - val_loss: 0.0916 - val_accuracy: 0.9909\n",
            "Epoch 28/100\n",
            "1750/1750 [==============================] - 12s 7ms/step - loss: 0.0229 - accuracy: 0.9941 - val_loss: 0.1300 - val_accuracy: 0.9891\n",
            "Epoch 29/100\n",
            "1750/1750 [==============================] - 12s 7ms/step - loss: 0.0344 - accuracy: 0.9934 - val_loss: 0.0907 - val_accuracy: 0.9887\n",
            "Epoch 30/100\n",
            "1750/1750 [==============================] - 12s 7ms/step - loss: 0.0232 - accuracy: 0.9957 - val_loss: 0.1136 - val_accuracy: 0.9907\n",
            "Epoch 31/100\n",
            "1750/1750 [==============================] - 12s 7ms/step - loss: 0.0296 - accuracy: 0.9943 - val_loss: 0.1029 - val_accuracy: 0.9889\n",
            "Epoch 32/100\n",
            "1750/1750 [==============================] - 12s 7ms/step - loss: 0.0226 - accuracy: 0.9950 - val_loss: 0.1669 - val_accuracy: 0.9856\n",
            "Epoch 33/100\n",
            "1750/1750 [==============================] - 12s 7ms/step - loss: 0.0325 - accuracy: 0.9937 - val_loss: 0.1234 - val_accuracy: 0.9913\n",
            "Epoch 34/100\n",
            "1750/1750 [==============================] - 12s 7ms/step - loss: 0.0275 - accuracy: 0.9954 - val_loss: 0.0977 - val_accuracy: 0.9919\n",
            "Epoch 35/100\n",
            "1750/1750 [==============================] - 12s 7ms/step - loss: 0.0172 - accuracy: 0.9960 - val_loss: 0.1165 - val_accuracy: 0.9909\n",
            "Epoch 36/100\n",
            "1750/1750 [==============================] - 12s 7ms/step - loss: 0.0304 - accuracy: 0.9943 - val_loss: 0.0972 - val_accuracy: 0.9911\n",
            "Epoch 37/100\n",
            "1750/1750 [==============================] - 12s 7ms/step - loss: 0.0192 - accuracy: 0.9962 - val_loss: 0.1669 - val_accuracy: 0.9909\n",
            "Epoch 38/100\n",
            "1750/1750 [==============================] - 12s 7ms/step - loss: 0.0304 - accuracy: 0.9949 - val_loss: 0.1423 - val_accuracy: 0.9894\n",
            "Epoch 39/100\n",
            "1750/1750 [==============================] - 12s 7ms/step - loss: 0.0275 - accuracy: 0.9949 - val_loss: 0.1655 - val_accuracy: 0.9896\n",
            "Epoch 40/100\n",
            "1750/1750 [==============================] - 12s 7ms/step - loss: 0.0227 - accuracy: 0.9956 - val_loss: 0.1513 - val_accuracy: 0.9884\n",
            "Epoch 41/100\n",
            "1750/1750 [==============================] - 12s 7ms/step - loss: 0.0221 - accuracy: 0.9951 - val_loss: 0.1698 - val_accuracy: 0.9911\n",
            "Epoch 42/100\n",
            "1750/1750 [==============================] - 12s 7ms/step - loss: 0.0274 - accuracy: 0.9947 - val_loss: 0.1513 - val_accuracy: 0.9905\n",
            "Epoch 43/100\n",
            "1750/1750 [==============================] - 12s 7ms/step - loss: 0.0328 - accuracy: 0.9943 - val_loss: 0.0950 - val_accuracy: 0.9889\n",
            "Epoch 44/100\n",
            "1750/1750 [==============================] - 12s 7ms/step - loss: 0.0220 - accuracy: 0.9956 - val_loss: 0.1015 - val_accuracy: 0.9900\n",
            "Epoch 45/100\n",
            "1750/1750 [==============================] - 12s 7ms/step - loss: 0.0215 - accuracy: 0.9960 - val_loss: 0.1159 - val_accuracy: 0.9910\n",
            "Epoch 46/100\n",
            "1750/1750 [==============================] - 12s 7ms/step - loss: 0.0269 - accuracy: 0.9946 - val_loss: 0.1575 - val_accuracy: 0.9905\n",
            "Epoch 47/100\n",
            "1750/1750 [==============================] - 12s 7ms/step - loss: 0.0363 - accuracy: 0.9941 - val_loss: 0.1167 - val_accuracy: 0.9874\n",
            "Epoch 48/100\n",
            "1750/1750 [==============================] - 12s 7ms/step - loss: 0.0249 - accuracy: 0.9943 - val_loss: 0.2162 - val_accuracy: 0.9897\n",
            "Epoch 49/100\n",
            "1750/1750 [==============================] - 12s 7ms/step - loss: 0.0270 - accuracy: 0.9948 - val_loss: 0.1705 - val_accuracy: 0.9894\n",
            "Epoch 50/100\n",
            "1750/1750 [==============================] - 12s 7ms/step - loss: 0.0222 - accuracy: 0.9959 - val_loss: 0.1656 - val_accuracy: 0.9903\n",
            "Epoch 51/100\n",
            "1750/1750 [==============================] - 12s 7ms/step - loss: 0.0266 - accuracy: 0.9954 - val_loss: 0.1142 - val_accuracy: 0.9921\n",
            "Epoch 52/100\n",
            "1750/1750 [==============================] - 12s 7ms/step - loss: 0.0220 - accuracy: 0.9965 - val_loss: 0.1436 - val_accuracy: 0.9894\n",
            "Epoch 53/100\n",
            "1750/1750 [==============================] - 12s 7ms/step - loss: 0.0292 - accuracy: 0.9950 - val_loss: 0.1767 - val_accuracy: 0.9919\n",
            "Epoch 54/100\n",
            "1750/1750 [==============================] - 12s 7ms/step - loss: 0.0221 - accuracy: 0.9960 - val_loss: 0.1095 - val_accuracy: 0.9883\n",
            "Epoch 55/100\n",
            "1750/1750 [==============================] - 12s 7ms/step - loss: 0.0255 - accuracy: 0.9953 - val_loss: 0.1449 - val_accuracy: 0.9905\n",
            "Epoch 56/100\n",
            "1750/1750 [==============================] - 12s 7ms/step - loss: 0.0383 - accuracy: 0.9936 - val_loss: 0.1353 - val_accuracy: 0.9904\n",
            "Epoch 57/100\n",
            "1750/1750 [==============================] - 12s 7ms/step - loss: 0.0235 - accuracy: 0.9954 - val_loss: 0.1343 - val_accuracy: 0.9916\n",
            "Epoch 58/100\n",
            "1750/1750 [==============================] - 12s 7ms/step - loss: 0.0267 - accuracy: 0.9954 - val_loss: 0.1061 - val_accuracy: 0.9904\n",
            "Epoch 59/100\n",
            "1750/1750 [==============================] - 12s 7ms/step - loss: 0.0227 - accuracy: 0.9953 - val_loss: 0.1999 - val_accuracy: 0.9898\n",
            "Epoch 60/100\n",
            "1750/1750 [==============================] - 12s 7ms/step - loss: 0.0357 - accuracy: 0.9948 - val_loss: 0.1289 - val_accuracy: 0.9916\n",
            "Epoch 61/100\n",
            "1750/1750 [==============================] - 12s 7ms/step - loss: 0.0259 - accuracy: 0.9950 - val_loss: 0.1363 - val_accuracy: 0.9924\n",
            "Epoch 62/100\n",
            "1750/1750 [==============================] - 12s 7ms/step - loss: 0.0262 - accuracy: 0.9955 - val_loss: 0.1348 - val_accuracy: 0.9906\n",
            "Epoch 63/100\n",
            "1750/1750 [==============================] - 12s 7ms/step - loss: 0.0247 - accuracy: 0.9954 - val_loss: 0.1099 - val_accuracy: 0.9910\n",
            "Epoch 64/100\n",
            "1750/1750 [==============================] - 12s 7ms/step - loss: 0.0268 - accuracy: 0.9953 - val_loss: 0.1402 - val_accuracy: 0.9904\n",
            "Epoch 65/100\n",
            "1750/1750 [==============================] - 12s 7ms/step - loss: 0.0195 - accuracy: 0.9961 - val_loss: 0.1000 - val_accuracy: 0.9909\n",
            "Epoch 66/100\n",
            "1750/1750 [==============================] - 12s 7ms/step - loss: 0.0206 - accuracy: 0.9963 - val_loss: 0.1442 - val_accuracy: 0.9886\n",
            "Epoch 67/100\n",
            "1750/1750 [==============================] - 12s 7ms/step - loss: 0.0270 - accuracy: 0.9949 - val_loss: 0.1870 - val_accuracy: 0.9916\n",
            "Epoch 68/100\n",
            "1750/1750 [==============================] - 12s 7ms/step - loss: 0.0271 - accuracy: 0.9956 - val_loss: 0.1623 - val_accuracy: 0.9899\n",
            "Epoch 69/100\n",
            "1750/1750 [==============================] - 12s 7ms/step - loss: 0.0361 - accuracy: 0.9952 - val_loss: 0.1956 - val_accuracy: 0.9904\n",
            "Epoch 70/100\n",
            "1750/1750 [==============================] - 12s 7ms/step - loss: 0.0308 - accuracy: 0.9950 - val_loss: 0.1343 - val_accuracy: 0.9896\n",
            "Epoch 71/100\n",
            "1750/1750 [==============================] - 12s 7ms/step - loss: 0.0260 - accuracy: 0.9955 - val_loss: 0.1645 - val_accuracy: 0.9919\n",
            "Epoch 72/100\n",
            "1750/1750 [==============================] - 12s 7ms/step - loss: 0.0310 - accuracy: 0.9949 - val_loss: 0.1570 - val_accuracy: 0.9899\n",
            "Epoch 73/100\n",
            "1750/1750 [==============================] - 12s 7ms/step - loss: 0.0320 - accuracy: 0.9947 - val_loss: 0.1564 - val_accuracy: 0.9924\n",
            "Epoch 74/100\n",
            "1750/1750 [==============================] - 12s 7ms/step - loss: 0.0312 - accuracy: 0.9944 - val_loss: 0.1379 - val_accuracy: 0.9902\n",
            "Epoch 75/100\n",
            "1750/1750 [==============================] - 12s 7ms/step - loss: 0.0274 - accuracy: 0.9951 - val_loss: 0.1684 - val_accuracy: 0.9895\n",
            "Epoch 76/100\n",
            "1750/1750 [==============================] - 12s 7ms/step - loss: 0.0294 - accuracy: 0.9954 - val_loss: 0.1569 - val_accuracy: 0.9901\n",
            "Epoch 77/100\n",
            "1750/1750 [==============================] - 12s 7ms/step - loss: 0.0531 - accuracy: 0.9928 - val_loss: 0.1548 - val_accuracy: 0.9884\n",
            "Epoch 78/100\n",
            "1750/1750 [==============================] - 12s 7ms/step - loss: 0.0277 - accuracy: 0.9947 - val_loss: 0.1922 - val_accuracy: 0.9908\n",
            "Epoch 79/100\n",
            "1750/1750 [==============================] - 12s 7ms/step - loss: 0.0295 - accuracy: 0.9954 - val_loss: 0.2704 - val_accuracy: 0.9897\n",
            "Epoch 80/100\n",
            "1750/1750 [==============================] - 12s 7ms/step - loss: 0.0483 - accuracy: 0.9936 - val_loss: 0.1799 - val_accuracy: 0.9915\n",
            "Epoch 81/100\n",
            "1750/1750 [==============================] - 12s 7ms/step - loss: 0.0299 - accuracy: 0.9955 - val_loss: 0.2920 - val_accuracy: 0.9915\n",
            "Epoch 82/100\n",
            "1750/1750 [==============================] - 12s 7ms/step - loss: 0.0211 - accuracy: 0.9970 - val_loss: 0.1940 - val_accuracy: 0.9906\n",
            "Epoch 83/100\n",
            "1750/1750 [==============================] - 12s 7ms/step - loss: 0.0279 - accuracy: 0.9944 - val_loss: 0.2284 - val_accuracy: 0.9913\n",
            "Epoch 84/100\n",
            "1750/1750 [==============================] - 12s 7ms/step - loss: 0.0359 - accuracy: 0.9952 - val_loss: 0.1829 - val_accuracy: 0.9912\n",
            "Epoch 85/100\n",
            "1750/1750 [==============================] - 12s 7ms/step - loss: 0.0326 - accuracy: 0.9946 - val_loss: 0.2022 - val_accuracy: 0.9906\n",
            "Epoch 86/100\n",
            "1750/1750 [==============================] - 12s 7ms/step - loss: 0.0373 - accuracy: 0.9941 - val_loss: 0.1979 - val_accuracy: 0.9890\n",
            "Epoch 87/100\n",
            "1750/1750 [==============================] - 12s 7ms/step - loss: 0.0362 - accuracy: 0.9942 - val_loss: 0.2832 - val_accuracy: 0.9907\n",
            "Epoch 88/100\n",
            "1750/1750 [==============================] - 12s 7ms/step - loss: 0.0280 - accuracy: 0.9952 - val_loss: 0.2155 - val_accuracy: 0.9913\n",
            "Epoch 89/100\n",
            "1750/1750 [==============================] - 12s 7ms/step - loss: 0.0340 - accuracy: 0.9952 - val_loss: 0.1928 - val_accuracy: 0.9909\n",
            "Epoch 90/100\n",
            "1750/1750 [==============================] - 12s 7ms/step - loss: 0.0405 - accuracy: 0.9938 - val_loss: 0.1882 - val_accuracy: 0.9889\n",
            "Epoch 91/100\n",
            "1750/1750 [==============================] - 12s 7ms/step - loss: 0.0284 - accuracy: 0.9947 - val_loss: 0.3884 - val_accuracy: 0.9884\n",
            "Epoch 92/100\n",
            "1750/1750 [==============================] - 12s 7ms/step - loss: 0.0386 - accuracy: 0.9949 - val_loss: 0.2136 - val_accuracy: 0.9900\n",
            "Epoch 93/100\n",
            "1750/1750 [==============================] - 12s 7ms/step - loss: 0.0370 - accuracy: 0.9945 - val_loss: 0.1504 - val_accuracy: 0.9903\n",
            "Epoch 94/100\n",
            "1750/1750 [==============================] - 12s 7ms/step - loss: 0.0296 - accuracy: 0.9948 - val_loss: 0.2003 - val_accuracy: 0.9887\n",
            "Epoch 95/100\n",
            "1750/1750 [==============================] - 12s 7ms/step - loss: 0.0266 - accuracy: 0.9946 - val_loss: 0.3314 - val_accuracy: 0.9899\n",
            "Epoch 96/100\n",
            "1750/1750 [==============================] - 12s 7ms/step - loss: 0.0454 - accuracy: 0.9939 - val_loss: 0.2188 - val_accuracy: 0.9906\n",
            "Epoch 97/100\n",
            "1750/1750 [==============================] - 12s 7ms/step - loss: 0.0281 - accuracy: 0.9952 - val_loss: 0.1746 - val_accuracy: 0.9891\n",
            "Epoch 98/100\n",
            "1750/1750 [==============================] - 12s 7ms/step - loss: 0.0261 - accuracy: 0.9951 - val_loss: 0.1928 - val_accuracy: 0.9859\n",
            "Epoch 99/100\n",
            "1750/1750 [==============================] - 12s 7ms/step - loss: 0.0491 - accuracy: 0.9918 - val_loss: 0.2395 - val_accuracy: 0.9916\n",
            "Epoch 100/100\n",
            "1750/1750 [==============================] - 12s 7ms/step - loss: 0.0328 - accuracy: 0.9950 - val_loss: 0.1864 - val_accuracy: 0.9916\n"
          ],
          "name": "stdout"
        }
      ]
    },
    {
      "cell_type": "code",
      "metadata": {
        "id": "-uFEVorQKZdE"
      },
      "source": [
        "model.save('digits_conv.h5')"
      ],
      "execution_count": null,
      "outputs": []
    },
    {
      "cell_type": "code",
      "metadata": {
        "id": "14EDeHIHJnv1",
        "outputId": "42383d62-8b63-4edf-b314-fe3be9091720",
        "colab": {
          "base_uri": "https://localhost:8080/"
        }
      },
      "source": [
        "print(elapsed_training_time)"
      ],
      "execution_count": 26,
      "outputs": [
        {
          "output_type": "stream",
          "text": [
            "1220.936205625534\n"
          ],
          "name": "stdout"
        }
      ]
    },
    {
      "cell_type": "code",
      "metadata": {
        "id": "UU5NgT-vJsVE",
        "outputId": "a4425472-50af-4825-e4ff-d04f11a3b79a",
        "colab": {
          "base_uri": "https://localhost:8080/",
          "height": 282
        }
      },
      "source": [
        "pd.DataFrame(model.history.history).plot()"
      ],
      "execution_count": 27,
      "outputs": [
        {
          "output_type": "execute_result",
          "data": {
            "text/plain": [
              "<matplotlib.axes._subplots.AxesSubplot at 0x7f581ceaae50>"
            ]
          },
          "metadata": {
            "tags": []
          },
          "execution_count": 27
        },
        {
          "output_type": "display_data",
          "data": {
            "image/png": "[encoded data removed]",
            "text/plain": [
              "<Figure size 432x288 with 1 Axes>"
            ]
          },
          "metadata": {
            "tags": [],
            "needs_background": "light"
          }
        }
      ]
    },
    {
      "cell_type": "markdown",
      "metadata": {
        "id": "xHOwUOdEBy0I"
      },
      "source": [
        "**Create Noisy Test Data**"
      ]
    },
    {
      "cell_type": "code",
      "metadata": {
        "id": "l5wNvHQEBycr"
      },
      "source": [
        "np.random.seed(17)\n",
        "\n",
        "zeroes = np.zeros((len(x_test), img_rows, img_cols, 1))\n",
        "ones = zeroes + 1\n",
        "\n",
        "noisy_test_sets = list()\n",
        "noisy_display_sets = list()\n",
        "\n",
        "#Base noiseless data\n",
        "noisy_test_sets.append(x_test)\n",
        "noisy_x_test = x_test\n",
        "\n",
        "for i in range(0, 20):\n",
        "\n",
        "  noise = np.random.normal(0, .1, x_test.shape)\n",
        "  noisy_x_test = noisy_x_test + noise\n",
        "  noisy_x_test = np.minimum(noisy_x_test, ones)\n",
        "  noisy_x_test = np.maximum(noisy_x_test, zeroes)\n",
        "\n",
        "  noisy_test_sets.append(noisy_x_test)\n",
        "  # Reshape and multiply by 255 to get images for display\n",
        "  noisy_display_sets.append(noisy_x_test.reshape(len(x_test), img_rows, img_cols) * 255)"
      ],
      "execution_count": 28,
      "outputs": []
    },
    {
      "cell_type": "code",
      "metadata": {
        "id": "AG6W0R48B3dr"
      },
      "source": [
        "noise_accuracy_scores = list()\n",
        "noisy_predictions = list()\n",
        "noise_classification_data = list()\n",
        "\n",
        "for test_set in noisy_test_sets:\n",
        "  pred = np.argmax(model.predict(test_set), axis=-1)\n",
        "  noise_accuracy_scores.append(accuracy_score(y_test, pred))\n",
        "  noise_classification_data.append(classification_report(y_test, pred))\n",
        "  noisy_predictions.append(pred)"
      ],
      "execution_count": 30,
      "outputs": []
    },
    {
      "cell_type": "code",
      "metadata": {
        "id": "ezW7wkERCH30",
        "outputId": "365274f3-e4e5-408d-80de-52cb80e3c7a2",
        "colab": {
          "base_uri": "https://localhost:8080/",
          "height": 621
        }
      },
      "source": [
        "plt.figure( figsize=(14,10) )\n",
        "plt.title( 'Accuracy vs Noise Level' )\n",
        "plt.bar( np.arange(0, 21), noise_accuracy_scores )\n",
        "plt.xlabel('Noise Level')\n",
        "plt.ylabel('Accuracy')\n",
        "plt.show()"
      ],
      "execution_count": 31,
      "outputs": [
        {
          "output_type": "display_data",
          "data": {
            "image/png": "[encoded data removed]",
            "text/plain": [
              "<Figure size 1008x720 with 1 Axes>"
            ]
          },
          "metadata": {
            "tags": [],
            "needs_background": "light"
          }
        }
      ]
    }
  ]
}