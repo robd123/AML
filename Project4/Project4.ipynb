{
  "nbformat": 4,
  "nbformat_minor": 0,
  "metadata": {
    "colab": {
      "name": "Project4.ipynb",
      "provenance": [],
      "collapsed_sections": [],
      "authorship_tag": "ABX9TyPXQ0V0vSmQ6wvA8QaDMLSH",
      "include_colab_link": true
    },
    "kernelspec": {
      "name": "python3",
      "display_name": "Python 3"
    },
    "language_info": {
      "name": "python"
    }
  },
  "cells": [
    {
      "cell_type": "markdown",
      "metadata": {
        "id": "view-in-github",
        "colab_type": "text"
      },
      "source": [
        "<a href=\"https://colab.research.google.com/github/robd123/AML/blob/main/Project4/Project4.ipynb\" target=\"_parent\"><img src=\"https://colab.research.google.com/assets/colab-badge.svg\" alt=\"Open In Colab\"/></a>"
      ]
    },
    {
      "cell_type": "code",
      "metadata": {
        "colab": {
          "base_uri": "https://localhost:8080/"
        },
        "id": "W_HW6JRXNdJo",
        "outputId": "419a1b29-3021-48d1-f83d-eda1b1d5959f"
      },
      "source": [
        "import urllib.request\n",
        "import os\n",
        "import matplotlib.pyplot as plt\n",
        "import numpy as np\n",
        "import pandas as pd\n",
        "\n",
        "datapath = os.path.join(\"datasets\", \"customer\", \"\")\n",
        "os.makedirs(datapath, exist_ok=True)\n",
        "\n",
        "# Dataset is already split into test and train data\n",
        "file_path_train = \"https://raw.githubusercontent.com/robd123/AML/main/Project4/CustomerTrain.csv\"\n",
        "file_path_test = \"https://raw.githubusercontent.com/robd123/AML/main/Project4/CustomerTest.csv\"\n",
        "\n",
        "urllib.request.urlretrieve(file_path_train, datapath + \"CustomerTrain.csv\")\n",
        "train_data = pd.read_csv(datapath + \"CustomerTrain.csv\", thousands=',')\n",
        "\n",
        "urllib.request.urlretrieve(file_path_test, datapath + \"CustomerTest.csv\")\n",
        "test_data = pd.read_csv(datapath + \"CustomerTest.csv\", thousands=',')\n",
        "\n",
        "# Combine test and train data so I have a larger dataset, and only need to run my pipeline once\n",
        "# Will split again using sklearn before prediction\n",
        "customer_data = pd.concat([train_data, test_data])\n",
        "print(customer_data.shape)\n",
        "print(customer_data.head())"
      ],
      "execution_count": 14,
      "outputs": [
        {
          "output_type": "stream",
          "text": [
            "(10695, 11)\n",
            "       ID  Gender Ever_Married  ...  Family_Size  Var_1 Segmentation\n",
            "0  462809    Male           No  ...          4.0  Cat_4            D\n",
            "1  462643  Female          Yes  ...          3.0  Cat_4            A\n",
            "2  466315  Female          Yes  ...          1.0  Cat_6            B\n",
            "3  461735    Male          Yes  ...          2.0  Cat_6            B\n",
            "4  462669  Female          Yes  ...          6.0  Cat_6            A\n",
            "\n",
            "[5 rows x 11 columns]\n"
          ],
          "name": "stdout"
        }
      ]
    },
    {
      "cell_type": "markdown",
      "metadata": {
        "id": "F6Wv1S4_Vo5V"
      },
      "source": [
        "**Look for Missing Data**"
      ]
    },
    {
      "cell_type": "code",
      "metadata": {
        "colab": {
          "base_uri": "https://localhost:8080/"
        },
        "id": "CUASPtfpTzCx",
        "outputId": "5f34cd63-9bd4-4ab5-83f0-3c9384d843ae"
      },
      "source": [
        "print(customer_data.isnull().sum())"
      ],
      "execution_count": 11,
      "outputs": [
        {
          "output_type": "stream",
          "text": [
            "ID                    0\n",
            "Gender                0\n",
            "Ever_Married        190\n",
            "Age                   0\n",
            "Graduated           102\n",
            "Profession          162\n",
            "Work_Experience    1098\n",
            "Spending_Score        0\n",
            "Family_Size         448\n",
            "Var_1               108\n",
            "Segmentation          0\n",
            "dtype: int64\n"
          ],
          "name": "stdout"
        }
      ]
    },
    {
      "cell_type": "markdown",
      "metadata": {
        "id": "e9lHOYVfVk5Z"
      },
      "source": [
        "**Determine Data Types**"
      ]
    },
    {
      "cell_type": "code",
      "metadata": {
        "colab": {
          "base_uri": "https://localhost:8080/"
        },
        "id": "X4ZdVXlpU2Jm",
        "outputId": "0f0ebdfb-957d-43fe-8857-186a19f8682e"
      },
      "source": [
        "print(customer_data.dtypes)"
      ],
      "execution_count": 12,
      "outputs": [
        {
          "output_type": "stream",
          "text": [
            "ID                   int64\n",
            "Gender              object\n",
            "Ever_Married        object\n",
            "Age                  int64\n",
            "Graduated           object\n",
            "Profession          object\n",
            "Work_Experience    float64\n",
            "Spending_Score      object\n",
            "Family_Size        float64\n",
            "Var_1               object\n",
            "Segmentation        object\n",
            "dtype: object\n"
          ],
          "name": "stdout"
        }
      ]
    },
    {
      "cell_type": "markdown",
      "metadata": {
        "id": "nGcfFmgpVd-c"
      },
      "source": [
        "**Convert all Object Types to Category Types**"
      ]
    },
    {
      "cell_type": "code",
      "metadata": {
        "colab": {
          "base_uri": "https://localhost:8080/"
        },
        "id": "pPe1PbfqVKAq",
        "outputId": "a03fcda4-1d0f-49b3-b911-db9eb4c68b2a"
      },
      "source": [
        "customer_data['Gender'] = pd.Categorical(customer_data[\"Gender\"])\n",
        "customer_data['Ever_Married'] = pd.Categorical(customer_data[\"Ever_Married\"])\n",
        "customer_data['Graduated'] = pd.Categorical(customer_data[\"Graduated\"])\n",
        "customer_data['Profession'] = pd.Categorical(customer_data[\"Profession\"])\n",
        "customer_data['Spending_Score'] = pd.Categorical(customer_data[\"Spending_Score\"])\n",
        "customer_data['Var_1'] = pd.Categorical(customer_data[\"Var_1\"])\n",
        "customer_data['Segmentation'] = pd.Categorical(customer_data[\"Segmentation\"])\n",
        "print(customer_data.dtypes)"
      ],
      "execution_count": 13,
      "outputs": [
        {
          "output_type": "stream",
          "text": [
            "ID                    int64\n",
            "Gender             category\n",
            "Ever_Married       category\n",
            "Age                   int64\n",
            "Graduated          category\n",
            "Profession         category\n",
            "Work_Experience     float64\n",
            "Spending_Score     category\n",
            "Family_Size         float64\n",
            "Var_1              category\n",
            "Segmentation       category\n",
            "dtype: object\n"
          ],
          "name": "stdout"
        }
      ]
    },
    {
      "cell_type": "code",
      "metadata": {
        "colab": {
          "base_uri": "https://localhost:8080/"
        },
        "id": "oRNbMPLLVz6e",
        "outputId": "79e496b5-3a4a-47e0-b613-a4398ac70874"
      },
      "source": [
        "male = customer_data[customer_data.Gender == 'Male']\n",
        "female = customer_data[customer_data.Gender == 'Female']\n",
        "count_male_A = len(male[male.Segmentation == 'A'])\n",
        "count_male_B = len(male[male.Segmentation == 'B'])\n",
        "count_male_C = len(male[male.Segmentation == 'C'])\n",
        "count_male_D = len(male[male.Segmentation == 'D'])\n",
        "count_female_A = len(female[female.Segmentation == 'A'])\n",
        "count_female_B = len(female[female.Segmentation == 'B'])\n",
        "count_female_B = len(female[female.Segmentation == 'B'])\n",
        "count_female_B = len(female[female.Segmentation == 'BA'])\n",
        "\n"
      ],
      "execution_count": 22,
      "outputs": [
        {
          "output_type": "stream",
          "text": [
            "          ID Gender Ever_Married  ...  Family_Size  Var_1 Segmentation\n",
            "13    459573   Male          Yes  ...          1.0  Cat_6            A\n",
            "20    466084   Male          Yes  ...          1.0  Cat_3            A\n",
            "22    465602   Male          Yes  ...          2.0  Cat_3            A\n",
            "26    467604   Male           No  ...          8.0  Cat_4            A\n",
            "44    466152   Male          Yes  ...          1.0  Cat_6            A\n",
            "...      ...    ...          ...  ...          ...    ...          ...\n",
            "2556  467729   Male          Yes  ...          6.0  Cat_6            A\n",
            "2557  467733   Male          Yes  ...          3.0  Cat_6            A\n",
            "2570  467779   Male          Yes  ...          3.0  Cat_6            A\n",
            "2583  467848   Male           No  ...          1.0  Cat_6            A\n",
            "2600  467894   Male          Yes  ...          2.0  Cat_6            A\n",
            "\n",
            "[1516 rows x 11 columns]\n"
          ],
          "name": "stdout"
        }
      ]
    }
  ]
}