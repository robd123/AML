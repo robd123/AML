{
  "nbformat": 4,
  "nbformat_minor": 0,
  "metadata": {
    "colab": {
      "name": "Project4.ipynb",
      "provenance": [],
      "collapsed_sections": [],
      "authorship_tag": "ABX9TyPn+hEYhdIUErWR1VV/az0i",
      "include_colab_link": true
    },
    "kernelspec": {
      "name": "python3",
      "display_name": "Python 3"
    },
    "language_info": {
      "name": "python"
    }
  },
  "cells": [
    {
      "cell_type": "markdown",
      "metadata": {
        "id": "view-in-github",
        "colab_type": "text"
      },
      "source": [
        "<a href=\"https://colab.research.google.com/github/robd123/AML/blob/main/Project4/Project4.ipynb\" target=\"_parent\"><img src=\"https://colab.research.google.com/assets/colab-badge.svg\" alt=\"Open In Colab\"/></a>"
      ]
    },
    {
      "cell_type": "code",
      "metadata": {
        "colab": {
          "base_uri": "https://localhost:8080/"
        },
        "id": "W_HW6JRXNdJo",
        "outputId": "ad1f289c-acc8-4fcf-91f9-6dd82ac6518a"
      },
      "source": [
        "import urllib.request\n",
        "import os\n",
        "import matplotlib.pyplot as plt\n",
        "import numpy as np\n",
        "import pandas as pd\n",
        "\n",
        "datapath = os.path.join(\"datasets\", \"customer\", \"\")\n",
        "os.makedirs(datapath, exist_ok=True)\n",
        "\n",
        "# Dataset is already split into test and train data\n",
        "file_path_train = \"https://raw.githubusercontent.com/robd123/AML/main/Project4/CustomerTrain.csv\"\n",
        "file_path_test = \"https://raw.githubusercontent.com/robd123/AML/main/Project4/CustomerTest.csv\"\n",
        "\n",
        "urllib.request.urlretrieve(file_path_train, datapath + \"CustomerTrain.csv\")\n",
        "train_data = pd.read_csv(datapath + \"CustomerTrain.csv\", thousands=',')\n",
        "\n",
        "urllib.request.urlretrieve(file_path_test, datapath + \"CustomerTest.csv\")\n",
        "test_data = pd.read_csv(datapath + \"CustomerTest.csv\", thousands=',')\n",
        "\n",
        "# Combine test and train data so I have a larger dataset, and only need to run my pipeline once\n",
        "# Will split again using sklearn before prediction\n",
        "customer_data = pd.concat([train_data, test_data])\n",
        "\n",
        "print(customer_data.shape)\n",
        "print(customer_data.head())"
      ],
      "execution_count": 71,
      "outputs": [
        {
          "output_type": "stream",
          "text": [
            "(10695, 11)\n",
            "       ID  Gender Ever_Married  ...  Family_Size  Var_1 Segmentation\n",
            "0  462809    Male           No  ...          4.0  Cat_4            D\n",
            "1  462643  Female          Yes  ...          3.0  Cat_4            A\n",
            "2  466315  Female          Yes  ...          1.0  Cat_6            B\n",
            "3  461735    Male          Yes  ...          2.0  Cat_6            B\n",
            "4  462669  Female          Yes  ...          6.0  Cat_6            A\n",
            "\n",
            "[5 rows x 11 columns]\n"
          ],
          "name": "stdout"
        }
      ]
    },
    {
      "cell_type": "markdown",
      "metadata": {
        "id": "F6Wv1S4_Vo5V"
      },
      "source": [
        "**Look for Missing Data**"
      ]
    },
    {
      "cell_type": "code",
      "metadata": {
        "colab": {
          "base_uri": "https://localhost:8080/"
        },
        "id": "CUASPtfpTzCx",
        "outputId": "e2fe996b-56c8-4e6f-e6a1-4cca943a404b"
      },
      "source": [
        "print(customer_data.isnull().sum())"
      ],
      "execution_count": 72,
      "outputs": [
        {
          "output_type": "stream",
          "text": [
            "ID                    0\n",
            "Gender                0\n",
            "Ever_Married        190\n",
            "Age                   0\n",
            "Graduated           102\n",
            "Profession          162\n",
            "Work_Experience    1098\n",
            "Spending_Score        0\n",
            "Family_Size         448\n",
            "Var_1               108\n",
            "Segmentation          0\n",
            "dtype: int64\n"
          ],
          "name": "stdout"
        }
      ]
    },
    {
      "cell_type": "markdown",
      "metadata": {
        "id": "e9lHOYVfVk5Z"
      },
      "source": [
        "**Determine Data Types**"
      ]
    },
    {
      "cell_type": "code",
      "metadata": {
        "colab": {
          "base_uri": "https://localhost:8080/"
        },
        "id": "X4ZdVXlpU2Jm",
        "outputId": "25985f81-ebd4-4d4f-9176-8bc253d81625"
      },
      "source": [
        "print(customer_data.dtypes)"
      ],
      "execution_count": 73,
      "outputs": [
        {
          "output_type": "stream",
          "text": [
            "ID                   int64\n",
            "Gender              object\n",
            "Ever_Married        object\n",
            "Age                  int64\n",
            "Graduated           object\n",
            "Profession          object\n",
            "Work_Experience    float64\n",
            "Spending_Score      object\n",
            "Family_Size        float64\n",
            "Var_1               object\n",
            "Segmentation        object\n",
            "dtype: object\n"
          ],
          "name": "stdout"
        }
      ]
    },
    {
      "cell_type": "markdown",
      "metadata": {
        "id": "nGcfFmgpVd-c"
      },
      "source": [
        "**Convert all Object Types to Category Types**"
      ]
    },
    {
      "cell_type": "code",
      "metadata": {
        "colab": {
          "base_uri": "https://localhost:8080/"
        },
        "id": "pPe1PbfqVKAq",
        "outputId": "7c4b61ea-8dcc-4dac-ecf3-c1ac46168693"
      },
      "source": [
        "customer_data['Gender'] = pd.Categorical(customer_data[\"Gender\"])\n",
        "customer_data['Ever_Married'] = pd.Categorical(customer_data[\"Ever_Married\"])\n",
        "customer_data['Graduated'] = pd.Categorical(customer_data[\"Graduated\"])\n",
        "customer_data['Profession'] = pd.Categorical(customer_data[\"Profession\"])\n",
        "customer_data['Spending_Score'] = pd.Categorical(customer_data[\"Spending_Score\"])\n",
        "customer_data['Var_1'] = pd.Categorical(customer_data[\"Var_1\"])\n",
        "customer_data['Segmentation'] = pd.Categorical(customer_data[\"Segmentation\"])\n",
        "print(customer_data.dtypes)"
      ],
      "execution_count": 74,
      "outputs": [
        {
          "output_type": "stream",
          "text": [
            "ID                    int64\n",
            "Gender             category\n",
            "Ever_Married       category\n",
            "Age                   int64\n",
            "Graduated          category\n",
            "Profession         category\n",
            "Work_Experience     float64\n",
            "Spending_Score     category\n",
            "Family_Size         float64\n",
            "Var_1              category\n",
            "Segmentation       category\n",
            "dtype: object\n"
          ],
          "name": "stdout"
        }
      ]
    },
    {
      "cell_type": "markdown",
      "metadata": {
        "id": "ZzTEFx03ZpRK"
      },
      "source": [
        "**Plot Customer Type by Gender**"
      ]
    },
    {
      "cell_type": "code",
      "metadata": {
        "colab": {
          "base_uri": "https://localhost:8080/",
          "height": 281
        },
        "id": "oRNbMPLLVz6e",
        "outputId": "7a36cbc6-32a8-4d3e-830d-8d41dcf885c1"
      },
      "source": [
        "male = customer_data[customer_data.Gender == 'Male']\n",
        "female = customer_data[customer_data.Gender == 'Female']\n",
        "count_male_A = len(male[male.Segmentation == 'A'])\n",
        "count_male_B = len(male[male.Segmentation == 'B'])\n",
        "count_male_C = len(male[male.Segmentation == 'C'])\n",
        "count_male_D = len(male[male.Segmentation == 'D'])\n",
        "count_female_A = len(female[female.Segmentation == 'A'])\n",
        "count_female_B = len(female[female.Segmentation == 'B'])\n",
        "count_female_C = len(female[female.Segmentation == 'C'])\n",
        "count_female_D = len(female[female.Segmentation == 'D'])\n",
        "\n",
        "male_count = [count_male_A, count_male_B, count_male_C, count_male_D]\n",
        "female_count = [count_female_A, count_female_B, count_female_C, count_female_D]\n",
        "\n",
        "labels = ['A', 'B', 'C', 'D']\n",
        "\n",
        "x = np.arange(len(labels))\n",
        "width = 0.35\n",
        "\n",
        "fig, ax = plt.subplots()\n",
        "rects1 = ax.bar(x - width/2, male_count, width, label='Male', color='blue')\n",
        "rects2 = ax.bar(x + width/2, female_count, width, label='Female', color='orange')\n",
        "\n",
        "ax.set_ylabel('Count')\n",
        "ax.set_xticks(x)\n",
        "ax.set_xticklabels(labels)\n",
        "ax.legend(bbox_to_anchor = (1.3, 1.0), loc='upper right')\n",
        "\n",
        "plt.title('Customer Type by Gender')\n",
        "plt.show()"
      ],
      "execution_count": 75,
      "outputs": [
        {
          "output_type": "display_data",
          "data": {
            "image/png": "[encoded data removed]",
            "text/plain": [
              "<Figure size 432x288 with 1 Axes>"
            ]
          },
          "metadata": {
            "tags": [],
            "needs_background": "light"
          }
        }
      ]
    },
    {
      "cell_type": "markdown",
      "metadata": {
        "id": "YkzuxqY31GEt"
      },
      "source": [
        "**Customer Type by Spending Score**"
      ]
    },
    {
      "cell_type": "code",
      "metadata": {
        "colab": {
          "base_uri": "https://localhost:8080/",
          "height": 603
        },
        "id": "YjssigpI02wc",
        "outputId": "aacdbc4a-06e7-43a1-f73f-daf017a42a69"
      },
      "source": [
        "score_pv = pd.pivot_table(customer_data, values = 'ID', index = ['Segmentation'], columns = ['Spending_Score'], aggfunc=np.count_nonzero)\n",
        "plt = score_pv.plot(kind='bar', figsize=(20,10))"
      ],
      "execution_count": 83,
      "outputs": [
        {
          "output_type": "display_data",
          "data": {
            "image/png": "[encoded data removed]",
            "text/plain": [
              "<Figure size 1440x720 with 1 Axes>"
            ]
          },
          "metadata": {
            "tags": [],
            "needs_background": "light"
          }
        }
      ]
    },
    {
      "cell_type": "markdown",
      "metadata": {
        "id": "ji50Xkl80WWO"
      },
      "source": [
        "**Customer Type by Marital Status**"
      ]
    },
    {
      "cell_type": "code",
      "metadata": {
        "colab": {
          "base_uri": "https://localhost:8080/",
          "height": 603
        },
        "id": "WfHgtA6Cuy2V",
        "outputId": "ae55c2ef-44ba-4c63-f609-c453d3fa585e"
      },
      "source": [
        "married_pv = pd.pivot_table(customer_data, values = 'ID', index = ['Segmentation'], columns = ['Ever_Married'], aggfunc=np.count_nonzero)\n",
        "plt = married_pv.plot(kind='bar', figsize=(20,10))"
      ],
      "execution_count": 80,
      "outputs": [
        {
          "output_type": "display_data",
          "data": {
            "image/png": "[encoded data removed]",
            "text/plain": [
              "<Figure size 1440x720 with 1 Axes>"
            ]
          },
          "metadata": {
            "tags": [],
            "needs_background": "light"
          }
        }
      ]
    },
    {
      "cell_type": "markdown",
      "metadata": {
        "id": "HqQcS99U0cvE"
      },
      "source": [
        "**Customer Type by Profession**"
      ]
    },
    {
      "cell_type": "code",
      "metadata": {
        "colab": {
          "base_uri": "https://localhost:8080/",
          "height": 603
        },
        "id": "HheSpZpCf5iQ",
        "outputId": "db7b1fe9-1662-4795-cb91-957022ebbf67"
      },
      "source": [
        "profession_pv = pd.pivot_table(customer_data, values = 'ID', index = ['Segmentation'], columns = ['Profession'], aggfunc=np.count_nonzero)\n",
        "plt = profession_pv.plot(kind='bar', figsize=(20,10))"
      ],
      "execution_count": 79,
      "outputs": [
        {
          "output_type": "display_data",
          "data": {
            "image/png": "[encoded data removed]",
            "text/plain": [
              "<Figure size 1440x720 with 1 Axes>"
            ]
          },
          "metadata": {
            "tags": [],
            "needs_background": "light"
          }
        }
      ]
    },
    {
      "cell_type": "markdown",
      "metadata": {
        "id": "3CBB37tO0gxS"
      },
      "source": [
        "**Customer Type by Median Age**"
      ]
    },
    {
      "cell_type": "code",
      "metadata": {
        "colab": {
          "base_uri": "https://localhost:8080/",
          "height": 603
        },
        "id": "F0lNjzDl0I-8",
        "outputId": "ce010656-49e2-42da-d320-6a37f4044bff"
      },
      "source": [
        "age_pv = pd.pivot_table(customer_data, values = ['Age'], index = ['Segmentation'], aggfunc=np.median)\n",
        "plt = age_pv.plot(kind='bar', figsize=(20,10))"
      ],
      "execution_count": 82,
      "outputs": [
        {
          "output_type": "display_data",
          "data": {
            "image/png": "[encoded data removed]",
            "text/plain": [
              "<Figure size 1440x720 with 1 Axes>"
            ]
          },
          "metadata": {
            "tags": [],
            "needs_background": "light"
          }
        }
      ]
    },
    {
      "cell_type": "markdown",
      "metadata": {
        "id": "Z_dM_sPD1SF2"
      },
      "source": [
        "**Customer Type by Mean Family Size**"
      ]
    },
    {
      "cell_type": "code",
      "metadata": {
        "colab": {
          "base_uri": "https://localhost:8080/",
          "height": 603
        },
        "id": "moNfn2vD1LBw",
        "outputId": "9baac6c4-5314-458d-9bef-6966472239cd"
      },
      "source": [
        "family_pv = pd.pivot_table(customer_data, values = ['Family_Size'], index = ['Segmentation'], aggfunc=np.mean)\n",
        "plt = family_pv.plot(kind='bar', figsize=(20,10))"
      ],
      "execution_count": 85,
      "outputs": [
        {
          "output_type": "display_data",
          "data": {
            "image/png": "[encoded data removed]",
            "text/plain": [
              "<Figure size 1440x720 with 1 Axes>"
            ]
          },
          "metadata": {
            "tags": [],
            "needs_background": "light"
          }
        }
      ]
    },
    {
      "cell_type": "code",
      "metadata": {
        "colab": {
          "base_uri": "https://localhost:8080/"
        },
        "id": "cwIwiSi0dYCd",
        "outputId": "1f4d90f4-5a63-4c01-d794-5436e786d786"
      },
      "source": [
        "from sklearn.compose import ColumnTransformer\n",
        "from sklearn.pipeline import Pipeline, make_pipeline\n",
        "from sklearn.impute import SimpleImputer, KNNImputer\n",
        "from sklearn.preprocessing import OneHotEncoder, StandardScaler, OrdinalEncoder, MinMaxScaler\n",
        "\n",
        "customer_data = customer_data.drop(columns = 'ID')\n",
        "\n",
        "# Categorical and Float Attributes\n",
        "cats = ['Gender', 'Ever_Married', 'Graduated', 'Profession', 'Spending_Score', 'Var_1', 'Segmentation']\n",
        "floats = ['Age', 'Work_Experience', 'Family_Size']\n",
        "\n",
        "# Create pipeline to change categorical data to ordinal data\n",
        "cat_transformer = Pipeline(steps=[\n",
        "    ('imputer', SimpleImputer(strategy='most_frequent')),\n",
        "    ('ordinal', OrdinalEncoder())\n",
        "])\n",
        "# Create pipeline to scale continuous data\n",
        "float_transformer = Pipeline(steps=[\n",
        "    ('imputer', KNNImputer(n_neighbors=5)),\n",
        "    ('scaler', StandardScaler())\n",
        "])\n",
        "preprocessor = ColumnTransformer(\n",
        "    transformers=[\n",
        "        ('float', float_transformer, floats),\n",
        "        ('cat', cat_transformer, cats)\n",
        "])\n",
        "\n",
        "#Scaled and Ordinal Customer Data as a DataFrame\n",
        "customer_data_proc = pd.DataFrame(preprocessor.fit_transform(customer_data), columns= customer_data.columns)\n",
        "print(customer_data_proc.head())"
      ],
      "execution_count": 50,
      "outputs": [
        {
          "output_type": "stream",
          "text": [
            "     Gender  Ever_Married       Age  ...  Family_Size  Var_1  Segmentation\n",
            "0 -1.282499     -0.501812  0.760572  ...          2.0    3.0           3.0\n",
            "1 -0.328606     -0.194765  0.099783  ...          0.0    3.0           0.0\n",
            "2  1.400325     -0.501812 -1.221797  ...          2.0    5.0           1.0\n",
            "3  1.400325     -0.808859 -0.561007  ...          1.0    5.0           1.0\n",
            "4 -0.209369      1.524699  2.082152  ...          1.0    5.0           0.0\n",
            "\n",
            "[5 rows x 10 columns]\n"
          ],
          "name": "stdout"
        }
      ]
    },
    {
      "cell_type": "code",
      "metadata": {
        "colab": {
          "base_uri": "https://localhost:8080/"
        },
        "id": "1J6T6ATLexTa",
        "outputId": "cec98831-5047-4e6c-888b-98c9355f00d2"
      },
      "source": [
        "customer_data_proc.corr()['Segmentation'].sort_values(ascending=False)"
      ],
      "execution_count": 68,
      "outputs": [
        {
          "output_type": "execute_result",
          "data": {
            "text/plain": [
              "Segmentation       1.000000\n",
              "Spending_Score     0.169273\n",
              "Age                0.150409\n",
              "Family_Size        0.084906\n",
              "Graduated          0.018805\n",
              "Ever_Married       0.006918\n",
              "Var_1             -0.014580\n",
              "Work_Experience   -0.145316\n",
              "Profession        -0.176650\n",
              "Gender            -0.200639\n",
              "Name: Segmentation, dtype: float64"
            ]
          },
          "metadata": {
            "tags": []
          },
          "execution_count": 68
        }
      ]
    }
  ]
}