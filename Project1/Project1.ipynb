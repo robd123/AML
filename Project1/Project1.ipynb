{
  "nbformat": 4,
  "nbformat_minor": 0,
  "metadata": {
    "colab": {
      "name": "Untitled0.ipynb",
      "provenance": [],
      "collapsed_sections": []
    },
    "kernelspec": {
      "name": "python3",
      "display_name": "Python 3"
    },
    "language_info": {
      "name": "python"
    }
  },
  "cells": [
    {
      "cell_type": "code",
      "metadata": {
        "id": "rXGuff5P4jcw",
        "colab": {
          "base_uri": "https://localhost:8080/"
        },
        "outputId": "0ed40104-bfa3-407e-d635-d4dc08011900"
      },
      "source": [
        "import urllib.request\n",
        "import os\n",
        "datapath = os.path.join(\"datasets\", \"forestfires\", \"\")\n",
        "os.makedirs(datapath, exist_ok=True)\n",
        "file_path = \"https://raw.githubusercontent.com/robd123/AML/main/Project1/forestfires.csv\"\n",
        "urllib.request.urlretrieve(file_path, datapath + \"forestfires.csv\")"
      ],
      "execution_count": null,
      "outputs": [
        {
          "output_type": "execute_result",
          "data": {
            "text/plain": [
              "('datasets/forestfires/forestfires.csv',\n",
              " <http.client.HTTPMessage at 0x7f54b29fdc10>)"
            ]
          },
          "metadata": {
            "tags": []
          },
          "execution_count": 4
        }
      ]
    },
    {
      "cell_type": "code",
      "metadata": {
        "colab": {
          "base_uri": "https://localhost:8080/"
        },
        "id": "WD-SXJRF_E1l",
        "outputId": "fae66320-7edc-48d0-921a-452a9f9fe202"
      },
      "source": [
        "import matplotlib.pyplot as plt\n",
        "import numpy as np\n",
        "import pandas as pd\n",
        "forest_fires = pd.read_csv(datapath + \"forestfires.csv\", thousands=',')\n",
        "print(forest_fires)"
      ],
      "execution_count": null,
      "outputs": [
        {
          "output_type": "stream",
          "text": [
            "     X  Y month  day  FFMC    DMC     DC   ISI  temp  RH  wind  rain   area\n",
            "0    7  5   mar  fri  86.2   26.2   94.3   5.1   8.2  51   6.7   0.0   0.00\n",
            "1    7  4   oct  tue  90.6   35.4  669.1   6.7  18.0  33   0.9   0.0   0.00\n",
            "2    7  4   oct  sat  90.6   43.7  686.9   6.7  14.6  33   1.3   0.0   0.00\n",
            "3    8  6   mar  fri  91.7   33.3   77.5   9.0   8.3  97   4.0   0.2   0.00\n",
            "4    8  6   mar  sun  89.3   51.3  102.2   9.6  11.4  99   1.8   0.0   0.00\n",
            "..  .. ..   ...  ...   ...    ...    ...   ...   ...  ..   ...   ...    ...\n",
            "512  4  3   aug  sun  81.6   56.7  665.6   1.9  27.8  32   2.7   0.0   6.44\n",
            "513  2  4   aug  sun  81.6   56.7  665.6   1.9  21.9  71   5.8   0.0  54.29\n",
            "514  7  4   aug  sun  81.6   56.7  665.6   1.9  21.2  70   6.7   0.0  11.16\n",
            "515  1  4   aug  sat  94.4  146.0  614.7  11.3  25.6  42   4.0   0.0   0.00\n",
            "516  6  3   nov  tue  79.5    3.0  106.7   1.1  11.8  31   4.5   0.0   0.00\n",
            "\n",
            "[517 rows x 13 columns]\n"
          ],
          "name": "stdout"
        }
      ]
    }
  ]
}