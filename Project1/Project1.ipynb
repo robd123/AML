{
  "nbformat": 4,
  "nbformat_minor": 0,
  "metadata": {
    "colab": {
      "name": "Untitled0.ipynb",
      "provenance": [],
      "collapsed_sections": []
    },
    "kernelspec": {
      "name": "python3",
      "display_name": "Python 3"
    },
    "language_info": {
      "name": "python"
    }
  },
  "cells": [
    {
      "cell_type": "markdown",
      "metadata": {
        "id": "KUtlzwbwjHPM"
      },
      "source": [
        "**CSI 685 - Assignment 1**"
      ]
    },
    {
      "cell_type": "markdown",
      "metadata": {
        "id": "754nNit-hS9Q"
      },
      "source": [
        "Import data, original data is available here: https://archive.ics.uci.edu/ml/datasets/Forest+Fires\n",
        "The dataset was copied to my GitHub to make importing easier"
      ]
    },
    {
      "cell_type": "code",
      "metadata": {
        "id": "rXGuff5P4jcw",
        "colab": {
          "base_uri": "https://localhost:8080/"
        },
        "outputId": "96fa0420-1d44-42de-a911-6b294b46c4ec"
      },
      "source": [
        "import urllib.request\n",
        "import os\n",
        "datapath = os.path.join(\"datasets\", \"forestfires\", \"\")\n",
        "os.makedirs(datapath, exist_ok=True)\n",
        "file_path = \"https://raw.githubusercontent.com/robd123/AML/main/Project1/forestfires.csv\"\n",
        "urllib.request.urlretrieve(file_path, datapath + \"forestfires.csv\")"
      ],
      "execution_count": 1,
      "outputs": [
        {
          "output_type": "execute_result",
          "data": {
            "text/plain": [
              "('datasets/forestfires/forestfires.csv',\n",
              " <http.client.HTTPMessage at 0x7f1628278a10>)"
            ]
          },
          "metadata": {
            "tags": []
          },
          "execution_count": 1
        }
      ]
    },
    {
      "cell_type": "markdown",
      "metadata": {
        "id": "roiqgpNBhgmN"
      },
      "source": [
        "Convert data to array, commented out line removes all forest fires where the area is 0.  This has a slight effect on R2 score."
      ]
    },
    {
      "cell_type": "code",
      "metadata": {
        "id": "WD-SXJRF_E1l"
      },
      "source": [
        "import matplotlib.pyplot as plt\n",
        "import numpy as np\n",
        "import pandas as pd\n",
        "forest_fires = pd.read_csv(datapath + \"forestfires.csv\", thousands=',')\n",
        "#forest_fires = forest_fires[forest_fires['area'] > 0.00]\n"
      ],
      "execution_count": 2,
      "outputs": []
    },
    {
      "cell_type": "markdown",
      "metadata": {
        "id": "ETaD6-ENhvah"
      },
      "source": [
        "**Linear Regression - Temperature vs Area**\n",
        "\n",
        "Split data, train the model and plot the data.  Also records the R2 and MSE scores.  \n",
        "Data is plotted as the training set in blue, the test set in red, and the regression line as red.\n",
        "Training set and test set are split randomly with 80% of the data points in the training set."
      ]
    },
    {
      "cell_type": "code",
      "metadata": {
        "colab": {
          "base_uri": "https://localhost:8080/",
          "height": 279
        },
        "id": "5nl6CU7daA-q",
        "outputId": "33d5aff1-a570-424d-9391-09e96ddc1fc9"
      },
      "source": [
        "import matplotlib.pyplot as plt\n",
        "from sklearn import linear_model\n",
        "from sklearn.model_selection import train_test_split\n",
        "from sklearn.metrics import mean_squared_error\n",
        "from sklearn.metrics import r2_score\n",
        "\n",
        "x_vals = np.c_[forest_fires['temp']]\n",
        "y_vals = np.c_[forest_fires['area']]\n",
        "\n",
        "x_train, x_test, y_train, y_test = train_test_split(x_vals, y_vals, test_size=0.2, random_state=1234)\n",
        "\n",
        "lin_reg = linear_model.LinearRegression()\n",
        "lin_reg.fit(x_train, y_train)\n",
        "t0, t1 = lin_reg.intercept_[0], lin_reg.coef_[0][0]\n",
        "\n",
        "y_pred = lin_reg.predict(x_test)\n",
        "\n",
        "mse_temp = mean_squared_error(y_test, y_pred)\n",
        "r2_temp = r2_score(y_test, y_pred)\n",
        "\n",
        "plt.scatter(x_train, y_train)\n",
        "plt.scatter(x_test, y_test, c='r')\n",
        "plt.plot(x_train, t0 + t1 * x_train, \"r\")\n",
        "plt.xlabel(\"Temp\")\n",
        "plt.ylabel(\"Area\")\n",
        "plt.show()\n"
      ],
      "execution_count": 3,
      "outputs": [
        {
          "output_type": "display_data",
          "data": {
            "image/png": "[encoded data removed]",
            "text/plain": [
              "<Figure size 432x288 with 1 Axes>"
            ]
          },
          "metadata": {
            "tags": [],
            "needs_background": "light"
          }
        }
      ]
    },
    {
      "cell_type": "markdown",
      "metadata": {
        "id": "fI_ppc3ijamU"
      },
      "source": [
        "**Linear Regression - Relative Humidity vs Area**"
      ]
    },
    {
      "cell_type": "code",
      "metadata": {
        "colab": {
          "base_uri": "https://localhost:8080/",
          "height": 279
        },
        "id": "YQk8CyrGoNz_",
        "outputId": "d36e6a40-6b5d-4baa-d752-4b6cc3ae8ffe"
      },
      "source": [
        "import matplotlib.pyplot as plt\n",
        "from sklearn import linear_model\n",
        "from sklearn.model_selection import train_test_split\n",
        "from sklearn.metrics import mean_squared_error\n",
        "from sklearn.metrics import r2_score\n",
        "\n",
        "x_vals = np.c_[forest_fires['RH']]\n",
        "y_vals = np.c_[forest_fires['area']]\n",
        "\n",
        "x_train, x_test, y_train, y_test = train_test_split(x_vals, y_vals, test_size=0.2, random_state=1234)\n",
        "\n",
        "lin_reg = linear_model.LinearRegression()\n",
        "lin_reg.fit(x_train, y_train)\n",
        "t0, t1 = lin_reg.intercept_[0], lin_reg.coef_[0][0]\n",
        "\n",
        "y_pred = lin_reg.predict(x_test)\n",
        "\n",
        "mse_rh = mean_squared_error(y_test, y_pred)\n",
        "r2_rh = r2_score(y_test, y_pred)\n",
        "\n",
        "plt.scatter(x_train, y_train)\n",
        "plt.scatter(x_test, y_test, c='r')\n",
        "plt.plot(x_train, t0 + t1 * x_train, \"r\")\n",
        "plt.xlabel(\"Relative Humidity\")\n",
        "plt.ylabel(\"Area\")\n",
        "plt.show()\n"
      ],
      "execution_count": 4,
      "outputs": [
        {
          "output_type": "display_data",
          "data": {
            "image/png": "[encoded data removed]",
            "text/plain": [
              "<Figure size 432x288 with 1 Axes>"
            ]
          },
          "metadata": {
            "tags": [],
            "needs_background": "light"
          }
        }
      ]
    },
    {
      "cell_type": "markdown",
      "metadata": {
        "id": "wfSqIy9ojhTX"
      },
      "source": [
        "**Linear Regression - Wind vs Area**"
      ]
    },
    {
      "cell_type": "code",
      "metadata": {
        "colab": {
          "base_uri": "https://localhost:8080/",
          "height": 279
        },
        "id": "wV0Q23yIoda3",
        "outputId": "1cbe345e-3fbf-45fe-c542-990862050743"
      },
      "source": [
        "import matplotlib.pyplot as plt\n",
        "from sklearn import linear_model\n",
        "from sklearn.model_selection import train_test_split\n",
        "from sklearn.metrics import mean_squared_error\n",
        "from sklearn.metrics import r2_score\n",
        "\n",
        "x_vals = np.c_[forest_fires['wind']]\n",
        "y_vals = np.c_[forest_fires['area']]\n",
        "\n",
        "x_train, x_test, y_train, y_test = train_test_split(x_vals, y_vals, test_size=0.2, random_state=1234)\n",
        "\n",
        "lin_reg = linear_model.LinearRegression()\n",
        "lin_reg.fit(x_train, y_train)\n",
        "t0, t1 = lin_reg.intercept_[0], lin_reg.coef_[0][0]\n",
        "\n",
        "y_pred = lin_reg.predict(x_test)\n",
        "\n",
        "mse_wind = mean_squared_error(y_test, y_pred)\n",
        "r2_wind = r2_score(y_test, y_pred)\n",
        "\n",
        "plt.scatter(x_train, y_train)\n",
        "plt.scatter(x_test, y_test, c='r')\n",
        "plt.plot(x_train, t0 + t1 * x_train, \"r\")\n",
        "plt.xlabel(\"Wind\")\n",
        "plt.ylabel(\"Area\")\n",
        "plt.show()"
      ],
      "execution_count": 5,
      "outputs": [
        {
          "output_type": "display_data",
          "data": {
            "image/png": "[encoded data removed]",
            "text/plain": [
              "<Figure size 432x288 with 1 Axes>"
            ]
          },
          "metadata": {
            "tags": [],
            "needs_background": "light"
          }
        }
      ]
    },
    {
      "cell_type": "markdown",
      "metadata": {
        "id": "DWhdgr1QjkX1"
      },
      "source": [
        "**Linear Regression - Rain vs Area**\n"
      ]
    },
    {
      "cell_type": "code",
      "metadata": {
        "colab": {
          "base_uri": "https://localhost:8080/",
          "height": 279
        },
        "id": "memAqZ58on_H",
        "outputId": "d9f0d4be-6c5c-490c-8a7a-0f4c0196e5ef"
      },
      "source": [
        "import matplotlib.pyplot as plt\n",
        "from sklearn import linear_model\n",
        "from sklearn.model_selection import train_test_split\n",
        "from sklearn.metrics import mean_squared_error\n",
        "from sklearn.metrics import r2_score\n",
        "\n",
        "x_vals = np.c_[forest_fires['rain']]\n",
        "y_vals = np.c_[forest_fires['area']]\n",
        "\n",
        "x_train, x_test, y_train, y_test = train_test_split(x_vals, y_vals, test_size=0.2, random_state=1234)\n",
        "\n",
        "lin_reg = linear_model.LinearRegression()\n",
        "lin_reg.fit(x_train, y_train)\n",
        "t0, t1 = lin_reg.intercept_[0], lin_reg.coef_[0][0]\n",
        "\n",
        "y_pred = lin_reg.predict(x_test)\n",
        "\n",
        "plt.scatter(x_train, y_train)\n",
        "plt.scatter(x_test, y_test, c='r')\n",
        "plt.plot(x_train, t0 + t1 * x_train, \"r\")\n",
        "plt.xlabel(\"Rain\")\n",
        "plt.ylabel(\"Area\")\n",
        "plt.show()\n",
        "\n",
        "mse_rain = mean_squared_error(y_test, y_pred)\n",
        "r2_rain = r2_score(y_test, y_pred)\n"
      ],
      "execution_count": 6,
      "outputs": [
        {
          "output_type": "display_data",
          "data": {
            "image/png": "[encoded data removed]",
            "text/plain": [
              "<Figure size 432x288 with 1 Axes>"
            ]
          },
          "metadata": {
            "tags": [],
            "needs_background": "light"
          }
        }
      ]
    },
    {
      "cell_type": "markdown",
      "metadata": {
        "id": "grL6NB58fehj"
      },
      "source": [
        "**Conclusion:**\n",
        "  Temperature is the least accurate of all linear predictors of fire area.  However, this is a low bar and all linear regression models are very inaccurate.  This is likely due to the extremely high number of 0.00 area data points.  In the first code cell there is a commented out line to remove all fires that have zero burn area (does it count as a fire if it doesn't burn anything?), running regression this way slightly improves R2 score.  It appears, for this assignment, that linear regression using any of the data points (temperature, relative humidity, temperature, and rain) is not an effective way of predicting fire area."
      ]
    },
    {
      "cell_type": "code",
      "metadata": {
        "colab": {
          "base_uri": "https://localhost:8080/"
        },
        "id": "yuwXcsSrefRq",
        "outputId": "4008eeb9-c0a2-4e53-98f5-688c92df45be"
      },
      "source": [
        "print('Temp vs Area')\n",
        "print('MSE: ' + str(mse_temp))\n",
        "print('R2: ' + str(r2_temp))\n",
        "print('Relative Humidity vs Area')\n",
        "print('MSE: ' + str(mse_rh))\n",
        "print('R2: ' + str(r2_rh))\n",
        "print('Wind vs Area')\n",
        "print('MSE: ' + str(mse_wind))\n",
        "print('R2: ' + str(r2_wind))\n",
        "print('Rain vs Area')\n",
        "print('MSE: ' + str(mse_rain))\n",
        "print('R2: ' + str(r2_rain))"
      ],
      "execution_count": 7,
      "outputs": [
        {
          "output_type": "stream",
          "text": [
            "Temp vs Area\n",
            "MSE: 670.0305363263392\n",
            "R2: -0.1398251702504758\n",
            "Relative Humidity vs Area\n",
            "MSE: 636.585362417621\n",
            "R2: -0.08292977671576329\n",
            "Wind vs Area\n",
            "MSE: 643.0985040724767\n",
            "R2: -0.09400963411497232\n",
            "Rain vs Area\n",
            "MSE: 645.4589247834641\n",
            "R2: -0.09802507340153865\n"
          ],
          "name": "stdout"
        }
      ]
    }
  ]
}