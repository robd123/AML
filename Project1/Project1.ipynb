{
  "nbformat": 4,
  "nbformat_minor": 0,
  "metadata": {
    "colab": {
      "name": "Untitled0.ipynb",
      "provenance": [],
      "collapsed_sections": []
    },
    "kernelspec": {
      "name": "python3",
      "display_name": "Python 3"
    },
    "language_info": {
      "name": "python"
    }
  },
  "cells": [
    {
      "cell_type": "code",
      "metadata": {
        "id": "rXGuff5P4jcw",
        "colab": {
          "base_uri": "https://localhost:8080/"
        },
        "outputId": "85dbb048-d7d8-4adf-e472-39d455e54b9f"
      },
      "source": [
        "import urllib.request\n",
        "import os\n",
        "datapath = os.path.join(\"datasets\", \"forestfires\", \"\")\n",
        "os.makedirs(datapath, exist_ok=True)\n",
        "file_path = \"https://raw.githubusercontent.com/robd123/AML/main/Project1/forestfires.csv\"\n",
        "urllib.request.urlretrieve(file_path, datapath + \"forestfires.csv\")"
      ],
      "execution_count": 2,
      "outputs": [
        {
          "output_type": "execute_result",
          "data": {
            "text/plain": [
              "('datasets/forestfires/forestfires.csv',\n",
              " <http.client.HTTPMessage at 0x7fa203b9f2d0>)"
            ]
          },
          "metadata": {
            "tags": []
          },
          "execution_count": 2
        }
      ]
    },
    {
      "cell_type": "code",
      "metadata": {
        "colab": {
          "base_uri": "https://localhost:8080/"
        },
        "id": "WD-SXJRF_E1l",
        "outputId": "d47d43fb-8c1e-4055-efa0-b0ff99eed54c"
      },
      "source": [
        "import matplotlib.pyplot as plt\n",
        "import numpy as np\n",
        "import pandas as pd\n",
        "forest_fires = pd.read_csv(datapath + \"forestfires.csv\", thousands=',')\n",
        "forest_fires_with_area = forest_fires[forest_fires['area'] > 0.00]\n"
      ],
      "execution_count": 22,
      "outputs": [
        {
          "output_type": "stream",
          "text": [
            "     X  Y month  day  FFMC    DMC     DC   ISI  temp  RH  wind  rain   area\n",
            "138  9  9   jul  tue  85.8   48.3  313.4   3.9  18.0  42   2.7   0.0   0.36\n",
            "139  1  4   sep  tue  91.0  129.5  692.6   7.0  21.7  38   2.2   0.0   0.43\n",
            "140  2  5   sep  mon  90.9  126.5  686.5   7.0  21.9  39   1.8   0.0   0.47\n",
            "141  1  2   aug  wed  95.5   99.9  513.3  13.2  23.3  31   4.5   0.0   0.55\n",
            "142  8  6   aug  fri  90.1  108.0  529.8  12.5  21.2  51   8.9   0.0   0.61\n",
            "..  .. ..   ...  ...   ...    ...    ...   ...   ...  ..   ...   ...    ...\n",
            "509  5  4   aug  fri  91.0  166.9  752.6   7.1  21.1  71   7.6   1.4   2.17\n",
            "510  6  5   aug  fri  91.0  166.9  752.6   7.1  18.2  62   5.4   0.0   0.43\n",
            "512  4  3   aug  sun  81.6   56.7  665.6   1.9  27.8  32   2.7   0.0   6.44\n",
            "513  2  4   aug  sun  81.6   56.7  665.6   1.9  21.9  71   5.8   0.0  54.29\n",
            "514  7  4   aug  sun  81.6   56.7  665.6   1.9  21.2  70   6.7   0.0  11.16\n",
            "\n",
            "[270 rows x 13 columns]\n"
          ],
          "name": "stdout"
        }
      ]
    },
    {
      "cell_type": "code",
      "metadata": {
        "colab": {
          "base_uri": "https://localhost:8080/",
          "height": 313
        },
        "id": "5nl6CU7daA-q",
        "outputId": "298ef6de-b3d3-41bd-ac75-8995fd2f8203"
      },
      "source": [
        "import matplotlib.pyplot as plt\n",
        "from sklearn import linear_model\n",
        "from sklearn.model_selection import train_test_split\n",
        "from sklearn.metrics import mean_squared_error\n",
        "from sklearn.metrics import r2_score\n",
        "\n",
        "x_vals = np.c_[forest_fires['temp']]\n",
        "y_vals = np.c_[forest_fires['area']]\n",
        "\n",
        "x_train, x_test, y_train, y_test = train_test_split(x_vals, y_vals, test_size=0.2, random_state=1234)\n",
        "\n",
        "lin_reg = linear_model.LinearRegression()\n",
        "lin_reg.fit(x_train, y_train)\n",
        "t0, t1 = lin_reg.intercept_[0], lin_reg.coef_[0][0]\n",
        "\n",
        "y_pred = lin_reg.predict(x_test)\n",
        "\n",
        "mse = mean_squared_error(y_test, y_pred)\n",
        "r2 = r2_score(y_test, y_pred)\n",
        "\n",
        "plt.scatter(x_train, y_train)\n",
        "plt.plot(x_train, t0 + t1 * x_train, \"r\")\n",
        "plt.xlabel(\"Temp\")\n",
        "plt.ylabel(\"Area\")\n",
        "plt.show()\n",
        "\n",
        "print(\"MSE: \" + str(mse))\n",
        "print(\"R2: \" + str(r2))"
      ],
      "execution_count": 34,
      "outputs": [
        {
          "output_type": "display_data",
          "data": {
            "image/png": "[encoded data removed]",
            "text/plain": [
              "<Figure size 432x288 with 1 Axes>"
            ]
          },
          "metadata": {
            "tags": [],
            "needs_background": "light"
          }
        },
        {
          "output_type": "stream",
          "text": [
            "MSE: 670.0305363263392\n",
            "R2: -0.1398251702504758\n"
          ],
          "name": "stdout"
        }
      ]
    }
  ]
}